{
 "cells": [
  {
   "cell_type": "markdown",
   "id": "85f35355",
   "metadata": {
    "heading_collapsed": true
   },
   "source": [
    "## Bibliotecas"
   ]
  },
  {
   "cell_type": "code",
   "execution_count": 1,
   "id": "928057da",
   "metadata": {
    "ExecuteTime": {
     "end_time": "2023-01-18T21:51:09.395459Z",
     "start_time": "2023-01-18T21:51:06.766416Z"
    },
    "hidden": true
   },
   "outputs": [],
   "source": [
    "import pandas as pd\n",
    "import numpy as np\n",
    "import inflection\n",
    "import math"
   ]
  },
  {
   "cell_type": "markdown",
   "id": "9c748fcf",
   "metadata": {},
   "source": [
    "## Compreendendo os dados"
   ]
  },
  {
   "cell_type": "markdown",
   "id": "da58a906",
   "metadata": {},
   "source": [
    "- id: um id que representa uma duplicata (Store, Date) dentro do conjunto de teste  \n",
    "\n",
    "- store: um ID exclusivo para cada loja  \n",
    "\n",
    "- sales: o volume de negócios para um determinado dia (isto é o que você está prevendo) \n",
    "\n",
    "- customers: o número de clientes em um determinado dia  \n",
    "\n",
    "- open: um indicador para saber se a loja estava aberta: 0 = fechado, 1 = aberto  \n",
    "\n",
    "- state_holiday: indica um feriado estadual. Normalmente todas as lojas, com poucas exceções, fecham nos feriados estaduais. Observe que todas as escolas fecham nos feriados e fins de semana. a = feriado, b = feriado da Páscoa, c = Natal, 0 = nenhum\n",
    "\n",
    "- school_holiday: indica se o (Store, Date) foi afetado pelo fechamento das escolas públicas\n",
    "\n",
    "- store_type: diferencia entre 4 modelos de loja diferentes: a, b, c, d\n",
    "\n",
    "- assortment: descreve um nível de sortimento: a = básico, b = extra, c = estendido\n",
    "\n",
    "- competition_distance: distância em metros até a loja concorrente mais próxima\n",
    "\n",
    "- competition_open_since[Month/Year]: fornece o ano e o mês aproximados da hora em que o concorrente mais próximo foi aberto\n",
    "\n",
    "- promo: indica se uma loja está realizando uma promoção naquele dia\n",
    "\n",
    "- promo2: Promo2 é uma promoção contínua e consecutiva para algumas lojas: 0 = loja não está participando, 1 = loja está participando\n",
    "\n",
    "- promo2_since[Year/Week]: descreve o ano e a semana do calendário em que a loja começou a participar do Promo2\n",
    "\n",
    "- promoInterval: descreve os intervalos consecutivos em que o Promo2 é iniciado, nomeando os meses em que a promoção é reiniciada. Por exemplo, \"fevereiro, maio, agosto, novembro\" significa que cada rodada começa em fevereiro, maio, agosto, novembro de qualquer ano para essa loja"
   ]
  },
  {
   "cell_type": "code",
   "execution_count": 33,
   "id": "fba3a682",
   "metadata": {
    "ExecuteTime": {
     "end_time": "2023-01-18T22:29:24.878570Z",
     "start_time": "2023-01-18T22:29:24.873680Z"
    }
   },
   "outputs": [],
   "source": [
    "#obs: organizar isso depois ;)\n",
    "#coluna 'promo' não está no dataset"
   ]
  },
  {
   "cell_type": "markdown",
   "id": "0aa6d2a0",
   "metadata": {
    "heading_collapsed": true
   },
   "source": [
    "## Carregamento dos dados"
   ]
  },
  {
   "cell_type": "code",
   "execution_count": 2,
   "id": "7361eb5f",
   "metadata": {
    "ExecuteTime": {
     "end_time": "2023-01-18T21:51:13.615006Z",
     "start_time": "2023-01-18T21:51:09.401929Z"
    },
    "hidden": true
   },
   "outputs": [],
   "source": [
    "df_sales_raw = pd.read_csv('data/train.csv', low_memory=False)\n",
    "df_store_raw = pd.read_csv('data/store.csv', low_memory=False)\n",
    "\n",
    "# merge\n",
    "df_raw = pd.merge(df_sales_raw, df_store_raw, how='left', on='Store')"
   ]
  },
  {
   "cell_type": "markdown",
   "id": "f761986f",
   "metadata": {
    "heading_collapsed": true
   },
   "source": [
    "## Funções adicionais"
   ]
  },
  {
   "cell_type": "code",
   "execution_count": null,
   "id": "f35efd50",
   "metadata": {
    "hidden": true
   },
   "outputs": [],
   "source": []
  },
  {
   "cell_type": "markdown",
   "id": "476d761f",
   "metadata": {},
   "source": [
    "## Descrição dos dados"
   ]
  },
  {
   "cell_type": "markdown",
   "id": "8b4c1f47",
   "metadata": {
    "heading_collapsed": true
   },
   "source": [
    "### 1. Renomeando colunas"
   ]
  },
  {
   "cell_type": "code",
   "execution_count": 3,
   "id": "3a106533",
   "metadata": {
    "ExecuteTime": {
     "end_time": "2023-01-18T21:51:14.906920Z",
     "start_time": "2023-01-18T21:51:13.626447Z"
    },
    "hidden": true
   },
   "outputs": [],
   "source": [
    "df1 = df_raw.copy()"
   ]
  },
  {
   "cell_type": "code",
   "execution_count": 4,
   "id": "cd01c7cb",
   "metadata": {
    "ExecuteTime": {
     "end_time": "2023-01-18T21:51:14.950274Z",
     "start_time": "2023-01-18T21:51:14.918946Z"
    },
    "hidden": true
   },
   "outputs": [
    {
     "data": {
      "text/plain": [
       "Index(['Store', 'DayOfWeek', 'Date', 'Sales', 'Customers', 'Open', 'Promo',\n",
       "       'StateHoliday', 'SchoolHoliday', 'StoreType', 'Assortment',\n",
       "       'CompetitionDistance', 'CompetitionOpenSinceMonth',\n",
       "       'CompetitionOpenSinceYear', 'Promo2', 'Promo2SinceWeek',\n",
       "       'Promo2SinceYear', 'PromoInterval'],\n",
       "      dtype='object')"
      ]
     },
     "execution_count": 4,
     "metadata": {},
     "output_type": "execute_result"
    }
   ],
   "source": [
    "# nomes das colunas antigas\n",
    "df1.columns"
   ]
  },
  {
   "cell_type": "code",
   "execution_count": 5,
   "id": "39c27088",
   "metadata": {
    "ExecuteTime": {
     "end_time": "2023-01-18T21:51:14.972841Z",
     "start_time": "2023-01-18T21:51:14.954984Z"
    },
    "hidden": true
   },
   "outputs": [],
   "source": [
    "cols_originais = ['Store', 'DayOfWeek', 'Date', 'Sales', 'Customers', 'Open', 'Promo', 'StateHoliday',\n",
    "                  'SchoolHoliday', 'StoreType', 'Assortment', 'CompetitionDistance', 'CompetitionOpenSinceMonth',\n",
    "                  'CompetitionOpenSinceYear', 'Promo2', 'Promo2SinceWeek', 'Promo2SinceYear', 'PromoInterval']\n",
    "\n",
    "\n",
    "# criar função para modificar os nomes\n",
    "def snakecase(x):\n",
    "    return inflection.underscore(x)\n",
    "\n",
    "\n",
    "# salvar colunas novas e aplicar função anterior utilizando o map\n",
    "cols_novas = list(map(snakecase, cols_originais))\n",
    "\n",
    "# renomear\n",
    "df1.columns = cols_novas"
   ]
  },
  {
   "cell_type": "code",
   "execution_count": 6,
   "id": "ed5e83d5",
   "metadata": {
    "ExecuteTime": {
     "end_time": "2023-01-18T21:51:14.999895Z",
     "start_time": "2023-01-18T21:51:14.983460Z"
    },
    "hidden": true
   },
   "outputs": [
    {
     "data": {
      "text/plain": [
       "Index(['store', 'day_of_week', 'date', 'sales', 'customers', 'open', 'promo',\n",
       "       'state_holiday', 'school_holiday', 'store_type', 'assortment',\n",
       "       'competition_distance', 'competition_open_since_month',\n",
       "       'competition_open_since_year', 'promo2', 'promo2_since_week',\n",
       "       'promo2_since_year', 'promo_interval'],\n",
       "      dtype='object')"
      ]
     },
     "execution_count": 6,
     "metadata": {},
     "output_type": "execute_result"
    }
   ],
   "source": [
    "# checar modificação nos nomes das colunas\n",
    "\n",
    "df1.columns"
   ]
  },
  {
   "cell_type": "markdown",
   "id": "b9dae853",
   "metadata": {
    "heading_collapsed": true
   },
   "source": [
    "### 2. Verificando a dimensão dos dados"
   ]
  },
  {
   "cell_type": "code",
   "execution_count": 7,
   "id": "465c0f51",
   "metadata": {
    "ExecuteTime": {
     "end_time": "2023-01-18T21:51:15.023980Z",
     "start_time": "2023-01-18T21:51:15.008581Z"
    },
    "hidden": true
   },
   "outputs": [
    {
     "name": "stdout",
     "output_type": "stream",
     "text": [
      "Linhas: 1017209\n",
      "Colunas: 18\n"
     ]
    }
   ],
   "source": [
    "print(f'Linhas: {df1.shape[0]}')\n",
    "print(f'Colunas: {df1.shape[1]}')"
   ]
  },
  {
   "cell_type": "markdown",
   "id": "19ef9f53",
   "metadata": {
    "heading_collapsed": true
   },
   "source": [
    "### 3. Verificando os tipos de dados"
   ]
  },
  {
   "cell_type": "code",
   "execution_count": 8,
   "id": "74d4a4cf",
   "metadata": {
    "ExecuteTime": {
     "end_time": "2023-01-18T21:51:15.053048Z",
     "start_time": "2023-01-18T21:51:15.031878Z"
    },
    "hidden": true
   },
   "outputs": [
    {
     "data": {
      "text/plain": [
       "store                             int64\n",
       "day_of_week                       int64\n",
       "date                             object\n",
       "sales                             int64\n",
       "customers                         int64\n",
       "open                              int64\n",
       "promo                             int64\n",
       "state_holiday                    object\n",
       "school_holiday                    int64\n",
       "store_type                       object\n",
       "assortment                       object\n",
       "competition_distance            float64\n",
       "competition_open_since_month    float64\n",
       "competition_open_since_year     float64\n",
       "promo2                            int64\n",
       "promo2_since_week               float64\n",
       "promo2_since_year               float64\n",
       "promo_interval                   object\n",
       "dtype: object"
      ]
     },
     "execution_count": 8,
     "metadata": {},
     "output_type": "execute_result"
    }
   ],
   "source": [
    "df1.dtypes"
   ]
  },
  {
   "cell_type": "code",
   "execution_count": 9,
   "id": "d35bce9a",
   "metadata": {
    "ExecuteTime": {
     "end_time": "2023-01-18T21:51:15.303339Z",
     "start_time": "2023-01-18T21:51:15.057869Z"
    },
    "hidden": true
   },
   "outputs": [],
   "source": [
    "# coluna 'date' de object para datetime\n",
    "df1['date'] = pd.to_datetime(df1['date'])"
   ]
  },
  {
   "cell_type": "code",
   "execution_count": 10,
   "id": "a2408e15",
   "metadata": {
    "ExecuteTime": {
     "end_time": "2023-01-18T21:51:15.333449Z",
     "start_time": "2023-01-18T21:51:15.318302Z"
    },
    "hidden": true
   },
   "outputs": [
    {
     "data": {
      "text/plain": [
       "store                                    int64\n",
       "day_of_week                              int64\n",
       "date                            datetime64[ns]\n",
       "sales                                    int64\n",
       "customers                                int64\n",
       "open                                     int64\n",
       "promo                                    int64\n",
       "state_holiday                           object\n",
       "school_holiday                           int64\n",
       "store_type                              object\n",
       "assortment                              object\n",
       "competition_distance                   float64\n",
       "competition_open_since_month           float64\n",
       "competition_open_since_year            float64\n",
       "promo2                                   int64\n",
       "promo2_since_week                      float64\n",
       "promo2_since_year                      float64\n",
       "promo_interval                          object\n",
       "dtype: object"
      ]
     },
     "execution_count": 10,
     "metadata": {},
     "output_type": "execute_result"
    }
   ],
   "source": [
    "# checando modificações\n",
    "df1.dtypes"
   ]
  },
  {
   "cell_type": "markdown",
   "id": "b4f2c944",
   "metadata": {
    "heading_collapsed": true
   },
   "source": [
    "### 4. Checando dados nulos (NA)"
   ]
  },
  {
   "cell_type": "code",
   "execution_count": 11,
   "id": "565fef84",
   "metadata": {
    "ExecuteTime": {
     "end_time": "2023-01-18T21:51:16.516149Z",
     "start_time": "2023-01-18T21:51:15.337434Z"
    },
    "hidden": true
   },
   "outputs": [
    {
     "data": {
      "text/plain": [
       "store                                0\n",
       "day_of_week                          0\n",
       "date                                 0\n",
       "sales                                0\n",
       "customers                            0\n",
       "open                                 0\n",
       "promo                                0\n",
       "state_holiday                        0\n",
       "school_holiday                       0\n",
       "store_type                           0\n",
       "assortment                           0\n",
       "competition_distance              2642\n",
       "competition_open_since_month    323348\n",
       "competition_open_since_year     323348\n",
       "promo2                               0\n",
       "promo2_since_week               508031\n",
       "promo2_since_year               508031\n",
       "promo_interval                  508031\n",
       "dtype: int64"
      ]
     },
     "execution_count": 11,
     "metadata": {},
     "output_type": "execute_result"
    }
   ],
   "source": [
    "df1.isna().sum()"
   ]
  },
  {
   "cell_type": "markdown",
   "id": "cec083fd",
   "metadata": {},
   "source": [
    "### 5. Substituindo os dados nulos"
   ]
  },
  {
   "cell_type": "markdown",
   "id": "212ac2e0",
   "metadata": {},
   "source": [
    "##### comptetition_distance:\n",
    "- distância em metros do competidor mais próximo\n",
    "- sugestão: substituir os dados nulos por um número acima do valor máximo de distância, pois ou não há competidor ou está longe o suficiente para não ser considerado um\n",
    "\n",
    "##### competition_open_since_month:\n",
    "- mês que o competidor mais próximo foi aberto\n",
    "- sugestão: substituir os dados nulos do mês de abertura pelo mês da data de venda registrada (coluna 'date') na linha\n",
    "\n",
    "##### competition_open_since_year:\n",
    "- ano que o competidor maix pŕoximo foi aberto\n",
    "- sugestão: substituir os dados nulos do ano de abertura pelo ano da data de venda registrada (coluna 'date') na linha\n",
    "\n",
    "#### promo2:\n",
    "- continuação de uma promoção para algumas lojas: 0 -  não está participando; 1- está participando\n",
    "\n",
    "#### promo2_since_week:\n",
    "- semana em que a loja começou a participar da promo2\n",
    "\n",
    "#### promo2_since_year:\n",
    "- ano em que a loja começou a participar da promo2\n",
    "\n",
    "##### promo_interval:\n",
    "- meses em que a promo2 ficou ativa"
   ]
  },
  {
   "cell_type": "code",
   "execution_count": 25,
   "id": "d5e636b0",
   "metadata": {
    "ExecuteTime": {
     "end_time": "2023-01-18T22:05:28.972474Z",
     "start_time": "2023-01-18T22:05:28.944325Z"
    }
   },
   "outputs": [
    {
     "data": {
      "text/plain": [
       "200000.0"
      ]
     },
     "execution_count": 25,
     "metadata": {},
     "output_type": "execute_result"
    }
   ],
   "source": [
    "# encontrar o valor máximo para utilizar de parâmetro para a 'competition_distance'\n",
    "df1['competition_distance'].max()"
   ]
  },
  {
   "cell_type": "code",
   "execution_count": 14,
   "id": "721f2643",
   "metadata": {
    "ExecuteTime": {
     "end_time": "2023-01-18T21:53:28.239154Z",
     "start_time": "2023-01-18T21:53:27.635517Z"
    }
   },
   "outputs": [],
   "source": [
    "# competition_distance\n",
    "\n",
    "df1['competition_distance'] = df1['competition_distance'].apply(\n",
    "    lambda x: 200000.0 if math.isnan(x) else x)"
   ]
  },
  {
   "cell_type": "code",
   "execution_count": 24,
   "id": "fec9657b",
   "metadata": {
    "ExecuteTime": {
     "end_time": "2023-01-18T22:01:59.589351Z",
     "start_time": "2023-01-18T22:01:25.414834Z"
    }
   },
   "outputs": [],
   "source": [
    "# competition_open_since_month\n",
    "\n",
    "df1['competition_open_since_month'] = df1.apply(lambda x: x['date'].month if math.isnan(\n",
    "    x['competition_open_since_month']) else x['competition_open_since_month'], axis=1)"
   ]
  },
  {
   "cell_type": "code",
   "execution_count": 16,
   "id": "61834abc",
   "metadata": {
    "ExecuteTime": {
     "end_time": "2023-01-18T21:54:24.385691Z",
     "start_time": "2023-01-18T21:53:50.521798Z"
    }
   },
   "outputs": [],
   "source": [
    "# competition_open_since_year\n",
    "\n",
    "df1['competition_open_since_year'] = df1.apply(lambda x: x['date'].year if math.isnan(\n",
    "    x['competition_open_since_year']) else x['competition_open_since_year'], axis=1)"
   ]
  },
  {
   "cell_type": "code",
   "execution_count": 19,
   "id": "eb84de42",
   "metadata": {
    "ExecuteTime": {
     "end_time": "2023-01-18T21:55:54.499346Z",
     "start_time": "2023-01-18T21:55:18.639522Z"
    }
   },
   "outputs": [],
   "source": [
    "# promo2_since_week\n",
    "\n",
    "df1['promo2_since_week'] = df1.apply(lambda x: x['date'].week if math.isnan(\n",
    "    x['promo2_since_week']) else x['promo2_since_week'], axis=1)"
   ]
  },
  {
   "cell_type": "code",
   "execution_count": 20,
   "id": "45918654",
   "metadata": {
    "ExecuteTime": {
     "end_time": "2023-01-18T21:59:56.789295Z",
     "start_time": "2023-01-18T21:59:24.096814Z"
    }
   },
   "outputs": [],
   "source": [
    "# promo2_since_year\n",
    "\n",
    "df1['promo2_since_year'] = df1.apply(lambda x: x['date'].year if math.isnan(\n",
    "    x['promo2_since_year']) else x['promo2_since_year'], axis=1)"
   ]
  },
  {
   "cell_type": "code",
   "execution_count": 18,
   "id": "d7adce17",
   "metadata": {
    "ExecuteTime": {
     "end_time": "2023-01-18T21:55:08.493242Z",
     "start_time": "2023-01-18T21:54:38.452486Z"
    }
   },
   "outputs": [],
   "source": [
    "# promo_interval\n",
    "\n",
    "month_map = {1: 'Jan', 2: 'Feb', 3: 'Mar', 4: 'Apr', 5: 'May', 6: 'Jun',\n",
    "             7: 'Jul', 8: 'Aug', 9: 'Sept', 10: 'Oct', 11: 'Nov', 12: 'Dec'}\n",
    "\n",
    "df1['promo_interval'].fillna(0, inplace=True)\n",
    "\n",
    "df1['month_map'] = df1['date'].dt.month.map(month_map)\n",
    "\n",
    "df1['is_promo'] = df1[['promo_interval', 'month_map']].apply(\n",
    "    lambda x: 0 if x['promo_interval'] == 0 else 1 if x['month_map'] in x['promo_interval'].split(',') else 0, axis=1)"
   ]
  },
  {
   "cell_type": "code",
   "execution_count": 26,
   "id": "896eaf67",
   "metadata": {
    "ExecuteTime": {
     "end_time": "2023-01-18T22:06:44.931059Z",
     "start_time": "2023-01-18T22:06:44.302686Z"
    }
   },
   "outputs": [
    {
     "data": {
      "text/html": [
       "<div>\n",
       "<style scoped>\n",
       "    .dataframe tbody tr th:only-of-type {\n",
       "        vertical-align: middle;\n",
       "    }\n",
       "\n",
       "    .dataframe tbody tr th {\n",
       "        vertical-align: top;\n",
       "    }\n",
       "\n",
       "    .dataframe thead th {\n",
       "        text-align: right;\n",
       "    }\n",
       "</style>\n",
       "<table border=\"1\" class=\"dataframe\">\n",
       "  <thead>\n",
       "    <tr style=\"text-align: right;\">\n",
       "      <th></th>\n",
       "      <th>298326</th>\n",
       "      <th>574134</th>\n",
       "      <th>642506</th>\n",
       "      <th>708793</th>\n",
       "      <th>12729</th>\n",
       "    </tr>\n",
       "  </thead>\n",
       "  <tbody>\n",
       "    <tr>\n",
       "      <th>store</th>\n",
       "      <td>291</td>\n",
       "      <td>695</td>\n",
       "      <td>1052</td>\n",
       "      <td>439</td>\n",
       "      <td>465</td>\n",
       "    </tr>\n",
       "    <tr>\n",
       "      <th>day_of_week</th>\n",
       "      <td>7</td>\n",
       "      <td>7</td>\n",
       "      <td>2</td>\n",
       "      <td>5</td>\n",
       "      <td>1</td>\n",
       "    </tr>\n",
       "    <tr>\n",
       "      <th>date</th>\n",
       "      <td>2014-10-26 00:00:00</td>\n",
       "      <td>2014-02-02 00:00:00</td>\n",
       "      <td>2013-12-03 00:00:00</td>\n",
       "      <td>2013-10-04 00:00:00</td>\n",
       "      <td>2015-07-20 00:00:00</td>\n",
       "    </tr>\n",
       "    <tr>\n",
       "      <th>sales</th>\n",
       "      <td>0</td>\n",
       "      <td>0</td>\n",
       "      <td>10699</td>\n",
       "      <td>7179</td>\n",
       "      <td>6872</td>\n",
       "    </tr>\n",
       "    <tr>\n",
       "      <th>customers</th>\n",
       "      <td>0</td>\n",
       "      <td>0</td>\n",
       "      <td>973</td>\n",
       "      <td>1011</td>\n",
       "      <td>569</td>\n",
       "    </tr>\n",
       "    <tr>\n",
       "      <th>open</th>\n",
       "      <td>0</td>\n",
       "      <td>0</td>\n",
       "      <td>1</td>\n",
       "      <td>1</td>\n",
       "      <td>1</td>\n",
       "    </tr>\n",
       "    <tr>\n",
       "      <th>promo</th>\n",
       "      <td>0</td>\n",
       "      <td>0</td>\n",
       "      <td>1</td>\n",
       "      <td>0</td>\n",
       "      <td>0</td>\n",
       "    </tr>\n",
       "    <tr>\n",
       "      <th>state_holiday</th>\n",
       "      <td>0</td>\n",
       "      <td>0</td>\n",
       "      <td>0</td>\n",
       "      <td>0</td>\n",
       "      <td>0</td>\n",
       "    </tr>\n",
       "    <tr>\n",
       "      <th>school_holiday</th>\n",
       "      <td>0</td>\n",
       "      <td>0</td>\n",
       "      <td>0</td>\n",
       "      <td>1</td>\n",
       "      <td>0</td>\n",
       "    </tr>\n",
       "    <tr>\n",
       "      <th>store_type</th>\n",
       "      <td>d</td>\n",
       "      <td>a</td>\n",
       "      <td>a</td>\n",
       "      <td>a</td>\n",
       "      <td>d</td>\n",
       "    </tr>\n",
       "    <tr>\n",
       "      <th>assortment</th>\n",
       "      <td>a</td>\n",
       "      <td>a</td>\n",
       "      <td>c</td>\n",
       "      <td>a</td>\n",
       "      <td>c</td>\n",
       "    </tr>\n",
       "    <tr>\n",
       "      <th>competition_distance</th>\n",
       "      <td>200000.0</td>\n",
       "      <td>550.0</td>\n",
       "      <td>5080.0</td>\n",
       "      <td>1350.0</td>\n",
       "      <td>10890.0</td>\n",
       "    </tr>\n",
       "    <tr>\n",
       "      <th>competition_open_since_month</th>\n",
       "      <td>10.0</td>\n",
       "      <td>7.0</td>\n",
       "      <td>12.0</td>\n",
       "      <td>9.0</td>\n",
       "      <td>4.0</td>\n",
       "    </tr>\n",
       "    <tr>\n",
       "      <th>competition_open_since_year</th>\n",
       "      <td>2014.0</td>\n",
       "      <td>2011.0</td>\n",
       "      <td>2013.0</td>\n",
       "      <td>2009.0</td>\n",
       "      <td>2005.0</td>\n",
       "    </tr>\n",
       "    <tr>\n",
       "      <th>promo2</th>\n",
       "      <td>0</td>\n",
       "      <td>1</td>\n",
       "      <td>1</td>\n",
       "      <td>0</td>\n",
       "      <td>0</td>\n",
       "    </tr>\n",
       "    <tr>\n",
       "      <th>promo2_since_week</th>\n",
       "      <td>43.0</td>\n",
       "      <td>1.0</td>\n",
       "      <td>31.0</td>\n",
       "      <td>40.0</td>\n",
       "      <td>30.0</td>\n",
       "    </tr>\n",
       "    <tr>\n",
       "      <th>promo2_since_year</th>\n",
       "      <td>2014.0</td>\n",
       "      <td>2012.0</td>\n",
       "      <td>2013.0</td>\n",
       "      <td>2013.0</td>\n",
       "      <td>2015.0</td>\n",
       "    </tr>\n",
       "    <tr>\n",
       "      <th>promo_interval</th>\n",
       "      <td>0</td>\n",
       "      <td>Jan,Apr,Jul,Oct</td>\n",
       "      <td>Feb,May,Aug,Nov</td>\n",
       "      <td>0</td>\n",
       "      <td>0</td>\n",
       "    </tr>\n",
       "    <tr>\n",
       "      <th>month_map</th>\n",
       "      <td>Oct</td>\n",
       "      <td>Feb</td>\n",
       "      <td>Dec</td>\n",
       "      <td>Oct</td>\n",
       "      <td>Jul</td>\n",
       "    </tr>\n",
       "    <tr>\n",
       "      <th>is_promo</th>\n",
       "      <td>0</td>\n",
       "      <td>0</td>\n",
       "      <td>0</td>\n",
       "      <td>0</td>\n",
       "      <td>0</td>\n",
       "    </tr>\n",
       "  </tbody>\n",
       "</table>\n",
       "</div>"
      ],
      "text/plain": [
       "                                           298326               574134  \\\n",
       "store                                         291                  695   \n",
       "day_of_week                                     7                    7   \n",
       "date                          2014-10-26 00:00:00  2014-02-02 00:00:00   \n",
       "sales                                           0                    0   \n",
       "customers                                       0                    0   \n",
       "open                                            0                    0   \n",
       "promo                                           0                    0   \n",
       "state_holiday                                   0                    0   \n",
       "school_holiday                                  0                    0   \n",
       "store_type                                      d                    a   \n",
       "assortment                                      a                    a   \n",
       "competition_distance                     200000.0                550.0   \n",
       "competition_open_since_month                 10.0                  7.0   \n",
       "competition_open_since_year                2014.0               2011.0   \n",
       "promo2                                          0                    1   \n",
       "promo2_since_week                            43.0                  1.0   \n",
       "promo2_since_year                          2014.0               2012.0   \n",
       "promo_interval                                  0      Jan,Apr,Jul,Oct   \n",
       "month_map                                     Oct                  Feb   \n",
       "is_promo                                        0                    0   \n",
       "\n",
       "                                           642506               708793  \\\n",
       "store                                        1052                  439   \n",
       "day_of_week                                     2                    5   \n",
       "date                          2013-12-03 00:00:00  2013-10-04 00:00:00   \n",
       "sales                                       10699                 7179   \n",
       "customers                                     973                 1011   \n",
       "open                                            1                    1   \n",
       "promo                                           1                    0   \n",
       "state_holiday                                   0                    0   \n",
       "school_holiday                                  0                    1   \n",
       "store_type                                      a                    a   \n",
       "assortment                                      c                    a   \n",
       "competition_distance                       5080.0               1350.0   \n",
       "competition_open_since_month                 12.0                  9.0   \n",
       "competition_open_since_year                2013.0               2009.0   \n",
       "promo2                                          1                    0   \n",
       "promo2_since_week                            31.0                 40.0   \n",
       "promo2_since_year                          2013.0               2013.0   \n",
       "promo_interval                    Feb,May,Aug,Nov                    0   \n",
       "month_map                                     Dec                  Oct   \n",
       "is_promo                                        0                    0   \n",
       "\n",
       "                                           12729   \n",
       "store                                         465  \n",
       "day_of_week                                     1  \n",
       "date                          2015-07-20 00:00:00  \n",
       "sales                                        6872  \n",
       "customers                                     569  \n",
       "open                                            1  \n",
       "promo                                           0  \n",
       "state_holiday                                   0  \n",
       "school_holiday                                  0  \n",
       "store_type                                      d  \n",
       "assortment                                      c  \n",
       "competition_distance                      10890.0  \n",
       "competition_open_since_month                  4.0  \n",
       "competition_open_since_year                2005.0  \n",
       "promo2                                          0  \n",
       "promo2_since_week                            30.0  \n",
       "promo2_since_year                          2015.0  \n",
       "promo_interval                                  0  \n",
       "month_map                                     Jul  \n",
       "is_promo                                        0  "
      ]
     },
     "execution_count": 26,
     "metadata": {},
     "output_type": "execute_result"
    }
   ],
   "source": [
    "df1.sample(5).T"
   ]
  },
  {
   "cell_type": "code",
   "execution_count": 23,
   "id": "7c442367",
   "metadata": {
    "ExecuteTime": {
     "end_time": "2023-01-18T22:01:14.381974Z",
     "start_time": "2023-01-18T22:01:12.992631Z"
    }
   },
   "outputs": [
    {
     "data": {
      "text/plain": [
       "store                           0\n",
       "day_of_week                     0\n",
       "date                            0\n",
       "sales                           0\n",
       "customers                       0\n",
       "open                            0\n",
       "promo                           0\n",
       "state_holiday                   0\n",
       "school_holiday                  0\n",
       "store_type                      0\n",
       "assortment                      0\n",
       "competition_distance            0\n",
       "competition_open_since_month    0\n",
       "competition_open_since_year     0\n",
       "promo2                          0\n",
       "promo2_since_week               0\n",
       "promo2_since_year               0\n",
       "promo_interval                  0\n",
       "month_map                       0\n",
       "is_promo                        0\n",
       "dtype: int64"
      ]
     },
     "execution_count": 23,
     "metadata": {},
     "output_type": "execute_result"
    }
   ],
   "source": [
    "# checando o tratamento de NA\n",
    "df1.isna().sum()"
   ]
  },
  {
   "cell_type": "markdown",
   "id": "306da213",
   "metadata": {},
   "source": [
    "### 6. Etapa "
   ]
  },
  {
   "cell_type": "code",
   "execution_count": null,
   "id": "43373e85",
   "metadata": {},
   "outputs": [],
   "source": []
  },
  {
   "cell_type": "code",
   "execution_count": null,
   "id": "a68fcc61",
   "metadata": {},
   "outputs": [],
   "source": []
  },
  {
   "cell_type": "markdown",
   "id": "d40adc8f",
   "metadata": {},
   "source": [
    "### 7. Etapa "
   ]
  },
  {
   "cell_type": "code",
   "execution_count": null,
   "id": "5cf3662f",
   "metadata": {},
   "outputs": [],
   "source": []
  },
  {
   "cell_type": "code",
   "execution_count": null,
   "id": "bccb9c14",
   "metadata": {},
   "outputs": [],
   "source": []
  },
  {
   "cell_type": "markdown",
   "id": "55af3ac2",
   "metadata": {},
   "source": [
    "### 8. Etapa "
   ]
  },
  {
   "cell_type": "code",
   "execution_count": null,
   "id": "b5869aec",
   "metadata": {},
   "outputs": [],
   "source": []
  },
  {
   "cell_type": "code",
   "execution_count": null,
   "id": "736ae3c5",
   "metadata": {},
   "outputs": [],
   "source": []
  },
  {
   "cell_type": "markdown",
   "id": "12f7c313",
   "metadata": {},
   "source": [
    "### +"
   ]
  },
  {
   "cell_type": "code",
   "execution_count": null,
   "id": "6dcd51d2",
   "metadata": {},
   "outputs": [],
   "source": []
  },
  {
   "cell_type": "code",
   "execution_count": null,
   "id": "cac4f8fe",
   "metadata": {},
   "outputs": [],
   "source": []
  }
 ],
 "metadata": {
  "kernelspec": {
   "display_name": "venv_rossmann",
   "language": "python",
   "name": "venv_rossmann"
  },
  "language_info": {
   "codemirror_mode": {
    "name": "ipython",
    "version": 3
   },
   "file_extension": ".py",
   "mimetype": "text/x-python",
   "name": "python",
   "nbconvert_exporter": "python",
   "pygments_lexer": "ipython3",
   "version": "3.8.0"
  },
  "varInspector": {
   "cols": {
    "lenName": 16,
    "lenType": 16,
    "lenVar": 40
   },
   "kernels_config": {
    "python": {
     "delete_cmd_postfix": "",
     "delete_cmd_prefix": "del ",
     "library": "var_list.py",
     "varRefreshCmd": "print(var_dic_list())"
    },
    "r": {
     "delete_cmd_postfix": ") ",
     "delete_cmd_prefix": "rm(",
     "library": "var_list.r",
     "varRefreshCmd": "cat(var_dic_list()) "
    }
   },
   "types_to_exclude": [
    "module",
    "function",
    "builtin_function_or_method",
    "instance",
    "_Feature"
   ],
   "window_display": false
  }
 },
 "nbformat": 4,
 "nbformat_minor": 5
}
