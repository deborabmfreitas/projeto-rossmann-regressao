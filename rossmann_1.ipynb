{
 "cells": [
  {
   "cell_type": "markdown",
   "id": "85f35355",
   "metadata": {
    "heading_collapsed": true
   },
   "source": [
    "## Bibliotecas"
   ]
  },
  {
   "cell_type": "code",
   "execution_count": 44,
   "id": "928057da",
   "metadata": {
    "ExecuteTime": {
     "end_time": "2023-01-19T13:37:00.898759Z",
     "start_time": "2023-01-19T13:37:00.881433Z"
    },
    "hidden": true
   },
   "outputs": [],
   "source": [
    "import pandas as pd\n",
    "import numpy as np\n",
    "import inflection #função snakecase\n",
    "import math"
   ]
  },
  {
   "cell_type": "markdown",
   "id": "9c748fcf",
   "metadata": {
    "heading_collapsed": true
   },
   "source": [
    "## Entendendo os dados originais da Rossmann"
   ]
  },
  {
   "cell_type": "markdown",
   "id": "da58a906",
   "metadata": {
    "hidden": true
   },
   "source": [
    "\n",
    "##### 0. store:\n",
    "- um ID exclusivo para cada loja\n",
    "\n",
    "##### 1. day_of_week:\n",
    "- dia da semana em que a venda ocorreu (dados não descritos)\n",
    "\n",
    "##### 2. date:\n",
    "- data de venda (dados não descritos)\n",
    "\n",
    "##### 3. sales:\n",
    "- o volume de negócios para um determinado dia (isto é o que você está prevendo) \n",
    "\n",
    "##### 4. customers\n",
    "- o número de clientes em um determinado dia  \n",
    "\n",
    "##### 5. open: \n",
    "- um indicador para saber se a loja estava aberta: 0 = fechado, 1 = aberto  \n",
    "\n",
    "##### 6.  promo:\n",
    "- indica se uma loja está realizando uma promoção naquele dia\n",
    "\n",
    "##### 7. state_holiday:\n",
    "- indica um feriado estadual. Normalmente todas as lojas, com poucas exceções, fecham nos feriados estaduais. Observe que todas as escolas fecham nos feriados e fins de semana. a = feriado, b = feriado da Páscoa, c = Natal, 0 = nenhum\n",
    "\n",
    "##### 8. school_holiday:\n",
    "- indica se o (store, date) foi afetado pelo fechamento das escolas públicas\n",
    "\n",
    "##### 9. store_type:\n",
    "- diferencia entre 4 modelos de loja diferentes: a, b, c, d\n",
    "\n",
    "##### 10. assortment: \n",
    "- descreve um nível de sortimento: a = básico, b = extra, c = estendido\n",
    "\n",
    "##### 11. competition_distance:\n",
    "- distância em metros até a loja concorrente mais próxima\n",
    "\n",
    "##### 12. competition_open_since_month:\n",
    "- fornece o mês aproximado em que o concorrente mais próximo foi aberto\n",
    "\n",
    "##### 13. competition_open_since_year:\n",
    "- fornece o ano aproximado em que o concorrente mais próximo foi aberto\n",
    "\n",
    "##### 14 . promo2:\n",
    "- promo2 é uma promoção contínua e consecutiva para algumas lojas: 0 = a loja não está participando, 1 = a loja está participando\n",
    "\n",
    "##### 15. promo2_since_week:\n",
    "- descreve a semana em que a loja começou a participar da 'promo2'\n",
    "\n",
    "##### 16. promo2_since_year\n",
    "- descreve o ano em que a loja começou a participar da 'promo2'\n",
    "\n",
    "##### 17.  promo_interval:\n",
    "- meses em que a promo2 ficou ativa"
   ]
  },
  {
   "cell_type": "code",
   "execution_count": 45,
   "id": "fba3a682",
   "metadata": {
    "ExecuteTime": {
     "end_time": "2023-01-19T13:37:00.931098Z",
     "start_time": "2023-01-19T13:37:00.914444Z"
    },
    "hidden": true
   },
   "outputs": [],
   "source": [
    "#obs: coluna 'id' se encontra na descrição, porém não no dataset"
   ]
  },
  {
   "cell_type": "markdown",
   "id": "0aa6d2a0",
   "metadata": {},
   "source": [
    "## Carregamento dos dados"
   ]
  },
  {
   "cell_type": "code",
   "execution_count": 46,
   "id": "7361eb5f",
   "metadata": {
    "ExecuteTime": {
     "end_time": "2023-01-19T13:37:02.870301Z",
     "start_time": "2023-01-19T13:37:00.938799Z"
    }
   },
   "outputs": [],
   "source": [
    "df_sales_raw = pd.read_csv('data/train.csv', low_memory=False)\n",
    "df_store_raw = pd.read_csv('data/store.csv', low_memory=False)\n",
    "\n",
    "# merge (unindo os arquivos csv)\n",
    "df_raw = pd.merge(df_sales_raw, df_store_raw, how='left', on='Store')"
   ]
  },
  {
   "cell_type": "markdown",
   "id": "f761986f",
   "metadata": {
    "heading_collapsed": true
   },
   "source": [
    "## Funções adicionais"
   ]
  },
  {
   "cell_type": "code",
   "execution_count": null,
   "id": "f35efd50",
   "metadata": {
    "hidden": true
   },
   "outputs": [],
   "source": []
  },
  {
   "cell_type": "markdown",
   "id": "476d761f",
   "metadata": {},
   "source": [
    "## Descrição dos dados"
   ]
  },
  {
   "cell_type": "markdown",
   "id": "8b4c1f47",
   "metadata": {},
   "source": [
    "### 1. Renomeando colunas"
   ]
  },
  {
   "cell_type": "code",
   "execution_count": 47,
   "id": "3a106533",
   "metadata": {
    "ExecuteTime": {
     "end_time": "2023-01-19T13:37:03.230258Z",
     "start_time": "2023-01-19T13:37:02.885831Z"
    }
   },
   "outputs": [],
   "source": [
    "#criando uma cópia do dataset para trabalhar com os dados\n",
    "df1 = df_raw.copy()"
   ]
  },
  {
   "cell_type": "code",
   "execution_count": 48,
   "id": "cd01c7cb",
   "metadata": {
    "ExecuteTime": {
     "end_time": "2023-01-19T13:37:03.255754Z",
     "start_time": "2023-01-19T13:37:03.238477Z"
    }
   },
   "outputs": [
    {
     "data": {
      "text/plain": [
       "Index(['Store', 'DayOfWeek', 'Date', 'Sales', 'Customers', 'Open', 'Promo',\n",
       "       'StateHoliday', 'SchoolHoliday', 'StoreType', 'Assortment',\n",
       "       'CompetitionDistance', 'CompetitionOpenSinceMonth',\n",
       "       'CompetitionOpenSinceYear', 'Promo2', 'Promo2SinceWeek',\n",
       "       'Promo2SinceYear', 'PromoInterval'],\n",
       "      dtype='object')"
      ]
     },
     "execution_count": 48,
     "metadata": {},
     "output_type": "execute_result"
    }
   ],
   "source": [
    "# nomes das colunas antigas\n",
    "df1.columns"
   ]
  },
  {
   "cell_type": "code",
   "execution_count": 49,
   "id": "39c27088",
   "metadata": {
    "ExecuteTime": {
     "end_time": "2023-01-19T13:37:03.310302Z",
     "start_time": "2023-01-19T13:37:03.261770Z"
    }
   },
   "outputs": [],
   "source": [
    "cols_originais = ['Store', 'DayOfWeek', 'Date', 'Sales', 'Customers', 'Open', 'Promo', 'StateHoliday',\n",
    "                  'SchoolHoliday', 'StoreType', 'Assortment', 'CompetitionDistance', 'CompetitionOpenSinceMonth',\n",
    "                  'CompetitionOpenSinceYear', 'Promo2', 'Promo2SinceWeek', 'Promo2SinceYear', 'PromoInterval']\n",
    "\n",
    "\n",
    "# criar função para modificar os nomes\n",
    "def snakecase(x):\n",
    "    return inflection.underscore(x)\n",
    "\n",
    "\n",
    "# salvar colunas novas e aplicar função anterior utilizando o map\n",
    "cols_novas = list(map(snakecase, cols_originais))\n",
    "\n",
    "# renomear\n",
    "df1.columns = cols_novas"
   ]
  },
  {
   "cell_type": "code",
   "execution_count": 50,
   "id": "ed5e83d5",
   "metadata": {
    "ExecuteTime": {
     "end_time": "2023-01-19T13:37:03.333258Z",
     "start_time": "2023-01-19T13:37:03.315604Z"
    }
   },
   "outputs": [
    {
     "data": {
      "text/plain": [
       "Index(['store', 'day_of_week', 'date', 'sales', 'customers', 'open', 'promo',\n",
       "       'state_holiday', 'school_holiday', 'store_type', 'assortment',\n",
       "       'competition_distance', 'competition_open_since_month',\n",
       "       'competition_open_since_year', 'promo2', 'promo2_since_week',\n",
       "       'promo2_since_year', 'promo_interval'],\n",
       "      dtype='object')"
      ]
     },
     "execution_count": 50,
     "metadata": {},
     "output_type": "execute_result"
    }
   ],
   "source": [
    "# checar modificação nos nomes das colunas\n",
    "\n",
    "df1.columns"
   ]
  },
  {
   "cell_type": "markdown",
   "id": "b9dae853",
   "metadata": {
    "heading_collapsed": true
   },
   "source": [
    "### 2. Verificando a dimensão dos dados"
   ]
  },
  {
   "cell_type": "code",
   "execution_count": 51,
   "id": "465c0f51",
   "metadata": {
    "ExecuteTime": {
     "end_time": "2023-01-19T13:37:03.361127Z",
     "start_time": "2023-01-19T13:37:03.340117Z"
    },
    "hidden": true
   },
   "outputs": [
    {
     "name": "stdout",
     "output_type": "stream",
     "text": [
      "Linhas: 1017209\n",
      "Colunas: 18\n"
     ]
    }
   ],
   "source": [
    "print(f'Linhas: {df1.shape[0]}')\n",
    "print(f'Colunas: {df1.shape[1]}')"
   ]
  },
  {
   "cell_type": "markdown",
   "id": "19ef9f53",
   "metadata": {},
   "source": [
    "### 3. Verificando os tipos de dados"
   ]
  },
  {
   "cell_type": "code",
   "execution_count": 52,
   "id": "74d4a4cf",
   "metadata": {
    "ExecuteTime": {
     "end_time": "2023-01-19T13:37:03.397013Z",
     "start_time": "2023-01-19T13:37:03.366586Z"
    }
   },
   "outputs": [
    {
     "data": {
      "text/plain": [
       "store                             int64\n",
       "day_of_week                       int64\n",
       "date                             object\n",
       "sales                             int64\n",
       "customers                         int64\n",
       "open                              int64\n",
       "promo                             int64\n",
       "state_holiday                    object\n",
       "school_holiday                    int64\n",
       "store_type                       object\n",
       "assortment                       object\n",
       "competition_distance            float64\n",
       "competition_open_since_month    float64\n",
       "competition_open_since_year     float64\n",
       "promo2                            int64\n",
       "promo2_since_week               float64\n",
       "promo2_since_year               float64\n",
       "promo_interval                   object\n",
       "dtype: object"
      ]
     },
     "execution_count": 52,
     "metadata": {},
     "output_type": "execute_result"
    }
   ],
   "source": [
    "df1.dtypes"
   ]
  },
  {
   "cell_type": "code",
   "execution_count": 53,
   "id": "d35bce9a",
   "metadata": {
    "ExecuteTime": {
     "end_time": "2023-01-19T13:37:03.724882Z",
     "start_time": "2023-01-19T13:37:03.417149Z"
    }
   },
   "outputs": [],
   "source": [
    "# coluna 'date' de object para datetime\n",
    "df1['date'] = pd.to_datetime(df1['date'])"
   ]
  },
  {
   "cell_type": "code",
   "execution_count": 54,
   "id": "a2408e15",
   "metadata": {
    "ExecuteTime": {
     "end_time": "2023-01-19T13:37:03.752549Z",
     "start_time": "2023-01-19T13:37:03.729940Z"
    }
   },
   "outputs": [
    {
     "data": {
      "text/plain": [
       "store                                    int64\n",
       "day_of_week                              int64\n",
       "date                            datetime64[ns]\n",
       "sales                                    int64\n",
       "customers                                int64\n",
       "open                                     int64\n",
       "promo                                    int64\n",
       "state_holiday                           object\n",
       "school_holiday                           int64\n",
       "store_type                              object\n",
       "assortment                              object\n",
       "competition_distance                   float64\n",
       "competition_open_since_month           float64\n",
       "competition_open_since_year            float64\n",
       "promo2                                   int64\n",
       "promo2_since_week                      float64\n",
       "promo2_since_year                      float64\n",
       "promo_interval                          object\n",
       "dtype: object"
      ]
     },
     "execution_count": 54,
     "metadata": {},
     "output_type": "execute_result"
    }
   ],
   "source": [
    "# checando modificações\n",
    "df1.dtypes"
   ]
  },
  {
   "cell_type": "markdown",
   "id": "b4f2c944",
   "metadata": {},
   "source": [
    "### 4. Checando dados nulos (NA)"
   ]
  },
  {
   "cell_type": "code",
   "execution_count": 55,
   "id": "565fef84",
   "metadata": {
    "ExecuteTime": {
     "end_time": "2023-01-19T13:37:04.969604Z",
     "start_time": "2023-01-19T13:37:03.761697Z"
    }
   },
   "outputs": [
    {
     "data": {
      "text/plain": [
       "store                                0\n",
       "day_of_week                          0\n",
       "date                                 0\n",
       "sales                                0\n",
       "customers                            0\n",
       "open                                 0\n",
       "promo                                0\n",
       "state_holiday                        0\n",
       "school_holiday                       0\n",
       "store_type                           0\n",
       "assortment                           0\n",
       "competition_distance              2642\n",
       "competition_open_since_month    323348\n",
       "competition_open_since_year     323348\n",
       "promo2                               0\n",
       "promo2_since_week               508031\n",
       "promo2_since_year               508031\n",
       "promo_interval                  508031\n",
       "dtype: int64"
      ]
     },
     "execution_count": 55,
     "metadata": {},
     "output_type": "execute_result"
    }
   ],
   "source": [
    "df1.isna().sum()"
   ]
  },
  {
   "cell_type": "markdown",
   "id": "cec083fd",
   "metadata": {},
   "source": [
    "### 5. Substituindo as colunas que possuem dados nulos"
   ]
  },
  {
   "cell_type": "markdown",
   "id": "212ac2e0",
   "metadata": {},
   "source": [
    "##### comptetition_distance:\n",
    "- distância em metros do competidor mais próximo\n",
    "- sugestão: substituir os dados nulos por um número acima do valor máximo de distância, pois ou não há competidor ou está longe o suficiente para não ser considerado um\n",
    "\n",
    "##### competition_open_since_month:\n",
    "- mês que o competidor mais próximo foi aberto\n",
    "- sugestão: substituir os dados nulos do mês de abertura pelo mês da data de venda registrada (coluna 'date') na linha\n",
    "\n",
    "##### competition_open_since_year:\n",
    "- ano que o competidor mais pŕoximo foi aberto\n",
    "- sugestão: substituir os dados nulos do ano de abertura pelo ano da data de venda registrada (coluna 'date') na linha\n",
    "\n",
    "##### OBSERVAÇÃO:\n",
    "- coluna promo2: significa continuação de uma promoção, 0 -  não está participando; 1- está participando\n",
    "- as colunas seguintes dependem dessa\n",
    "- importante: sempre onde a promo2 é 0, os dados seguintes são nulos, ou seja, apenas significam que não houve promo2\n",
    "\n",
    "##### promo2_since_week:\n",
    "- semana em que a loja começou a participar da promo2\n",
    "- sugestão: substituir os dados nulos extraindo a semana da data de venda registrada (coluna 'date')\n",
    "\n",
    "##### promo2_since_year:\n",
    "- ano em que a loja começou a participar da promo2\n",
    "- sugestão:substituir os dados nulos extraindo o ano da data de venda registrada (coluna 'date')\n",
    "\n",
    "##### promo_interval:\n",
    "- meses em que a promo2 ficou ativa\n",
    "\n",
    "- sugestão 1: substituir dados nulos da 'promo_interval' por 0\n",
    "\n",
    "- sugestão 2 ['month_map']: adicionar meses na coluna nova 'month_map' de acordo com o mês presente na coluna de data de venda 'date'\n",
    "\n",
    "- sugestão 3 ['is_promo']: se o mês 'month_map' estiver dentro da lista presente em 'promo_interval', adicionar: 1-tem promoção; 0-não tem promoção."
   ]
  },
  {
   "cell_type": "code",
   "execution_count": 56,
   "id": "d5e636b0",
   "metadata": {
    "ExecuteTime": {
     "end_time": "2023-01-19T13:37:05.010727Z",
     "start_time": "2023-01-19T13:37:04.981120Z"
    }
   },
   "outputs": [
    {
     "data": {
      "text/plain": [
       "75860.0"
      ]
     },
     "execution_count": 56,
     "metadata": {},
     "output_type": "execute_result"
    }
   ],
   "source": [
    "# encontrar o valor máximo para utilizar de parâmetro para a 'competition_distance'\n",
    "df1['competition_distance'].max()"
   ]
  },
  {
   "cell_type": "code",
   "execution_count": 57,
   "id": "721f2643",
   "metadata": {
    "ExecuteTime": {
     "end_time": "2023-01-19T13:37:05.621291Z",
     "start_time": "2023-01-19T13:37:05.020847Z"
    }
   },
   "outputs": [],
   "source": [
    "# competition_distance\n",
    "\n",
    "df1['competition_distance'] = df1['competition_distance'].apply(\n",
    "    lambda x: 200000.0 if math.isnan(x) else x)"
   ]
  },
  {
   "cell_type": "code",
   "execution_count": 58,
   "id": "fec9657b",
   "metadata": {
    "ExecuteTime": {
     "end_time": "2023-01-19T13:37:38.592511Z",
     "start_time": "2023-01-19T13:37:05.625474Z"
    }
   },
   "outputs": [],
   "source": [
    "# competition_open_since_month\n",
    "\n",
    "df1['competition_open_since_month'] = df1.apply(lambda x: x['date'].month if math.isnan(\n",
    "    x['competition_open_since_month']) else x['competition_open_since_month'], axis=1)"
   ]
  },
  {
   "cell_type": "code",
   "execution_count": 59,
   "id": "61834abc",
   "metadata": {
    "ExecuteTime": {
     "end_time": "2023-01-19T13:38:11.111274Z",
     "start_time": "2023-01-19T13:37:38.597989Z"
    }
   },
   "outputs": [],
   "source": [
    "# competition_open_since_year\n",
    "\n",
    "df1['competition_open_since_year'] = df1.apply(lambda x: x['date'].year if math.isnan(\n",
    "    x['competition_open_since_year']) else x['competition_open_since_year'], axis=1)"
   ]
  },
  {
   "cell_type": "code",
   "execution_count": 60,
   "id": "eb84de42",
   "metadata": {
    "ExecuteTime": {
     "end_time": "2023-01-19T13:38:43.972853Z",
     "start_time": "2023-01-19T13:38:11.117809Z"
    }
   },
   "outputs": [],
   "source": [
    "# promo2_since_week\n",
    "\n",
    "df1['promo2_since_week'] = df1.apply(lambda x: x['date'].week if math.isnan(\n",
    "    x['promo2_since_week']) else x['promo2_since_week'], axis=1)"
   ]
  },
  {
   "cell_type": "code",
   "execution_count": 61,
   "id": "45918654",
   "metadata": {
    "ExecuteTime": {
     "end_time": "2023-01-19T13:39:21.208048Z",
     "start_time": "2023-01-19T13:38:43.977562Z"
    }
   },
   "outputs": [],
   "source": [
    "# promo2_since_year\n",
    "\n",
    "df1['promo2_since_year'] = df1.apply(lambda x: x['date'].year if math.isnan(\n",
    "    x['promo2_since_year']) else x['promo2_since_year'], axis=1)"
   ]
  },
  {
   "cell_type": "code",
   "execution_count": 76,
   "id": "d7adce17",
   "metadata": {
    "ExecuteTime": {
     "end_time": "2023-01-19T15:02:59.902844Z",
     "start_time": "2023-01-19T15:02:29.242469Z"
    }
   },
   "outputs": [],
   "source": [
    "# promo_interval\n",
    "\n",
    "#criar dicionario com os meses\n",
    "month_map = {1: 'Jan', 2: 'Feb', 3: 'Mar', 4: 'Apr', 5: 'May', 6: 'Jun',\n",
    "             7: 'Jul', 8: 'Aug', 9: 'Sept', 10: 'Oct', 11: 'Nov', 12: 'Dec'}\n",
    "\n",
    "#sugestão 1: se for nan, vai substituir por 0\n",
    "df1['promo_interval'].fillna(0, inplace=True)\n",
    "\n",
    "#sugestão 2: ['month_map']\n",
    "df1['month_map'] = df1['date'].dt.month.map(month_map)\n",
    "\n",
    "#sugestão 3: ['is_promo']\n",
    "df1['is_promo'] = df1[['promo_interval', 'month_map']].apply(\n",
    "    lambda x: 0 if x['promo_interval'] == 0 else 1 if x['month_map'] in x['promo_interval'].split(',') else 0, axis=1)"
   ]
  },
  {
   "cell_type": "code",
   "execution_count": 64,
   "id": "7c442367",
   "metadata": {
    "ExecuteTime": {
     "end_time": "2023-01-19T13:39:53.228101Z",
     "start_time": "2023-01-19T13:39:51.805368Z"
    }
   },
   "outputs": [
    {
     "data": {
      "text/plain": [
       "store                           0\n",
       "day_of_week                     0\n",
       "date                            0\n",
       "sales                           0\n",
       "customers                       0\n",
       "open                            0\n",
       "promo                           0\n",
       "state_holiday                   0\n",
       "school_holiday                  0\n",
       "store_type                      0\n",
       "assortment                      0\n",
       "competition_distance            0\n",
       "competition_open_since_month    0\n",
       "competition_open_since_year     0\n",
       "promo2                          0\n",
       "promo2_since_week               0\n",
       "promo2_since_year               0\n",
       "promo_interval                  0\n",
       "month_map                       0\n",
       "is_promo                        0\n",
       "dtype: int64"
      ]
     },
     "execution_count": 64,
     "metadata": {},
     "output_type": "execute_result"
    }
   ],
   "source": [
    "# checando o tratamento de NA\n",
    "df1.isna().sum()"
   ]
  },
  {
   "cell_type": "markdown",
   "id": "306da213",
   "metadata": {},
   "source": [
    "### 6. Etapa "
   ]
  },
  {
   "cell_type": "code",
   "execution_count": null,
   "id": "43373e85",
   "metadata": {},
   "outputs": [],
   "source": []
  },
  {
   "cell_type": "code",
   "execution_count": null,
   "id": "a68fcc61",
   "metadata": {},
   "outputs": [],
   "source": []
  },
  {
   "cell_type": "markdown",
   "id": "d40adc8f",
   "metadata": {},
   "source": [
    "### 7. Etapa "
   ]
  },
  {
   "cell_type": "code",
   "execution_count": null,
   "id": "5cf3662f",
   "metadata": {},
   "outputs": [],
   "source": []
  },
  {
   "cell_type": "code",
   "execution_count": null,
   "id": "bccb9c14",
   "metadata": {},
   "outputs": [],
   "source": []
  },
  {
   "cell_type": "markdown",
   "id": "55af3ac2",
   "metadata": {},
   "source": [
    "### 8. Etapa "
   ]
  },
  {
   "cell_type": "code",
   "execution_count": null,
   "id": "b5869aec",
   "metadata": {},
   "outputs": [],
   "source": []
  },
  {
   "cell_type": "code",
   "execution_count": null,
   "id": "736ae3c5",
   "metadata": {},
   "outputs": [],
   "source": []
  },
  {
   "cell_type": "markdown",
   "id": "12f7c313",
   "metadata": {},
   "source": [
    "### +"
   ]
  },
  {
   "cell_type": "code",
   "execution_count": null,
   "id": "6dcd51d2",
   "metadata": {},
   "outputs": [],
   "source": []
  },
  {
   "cell_type": "code",
   "execution_count": null,
   "id": "cac4f8fe",
   "metadata": {},
   "outputs": [],
   "source": []
  }
 ],
 "metadata": {
  "kernelspec": {
   "display_name": "venv_rossmann",
   "language": "python",
   "name": "venv_rossmann"
  },
  "language_info": {
   "codemirror_mode": {
    "name": "ipython",
    "version": 3
   },
   "file_extension": ".py",
   "mimetype": "text/x-python",
   "name": "python",
   "nbconvert_exporter": "python",
   "pygments_lexer": "ipython3",
   "version": "3.8.0"
  },
  "varInspector": {
   "cols": {
    "lenName": 16,
    "lenType": 16,
    "lenVar": 40
   },
   "kernels_config": {
    "python": {
     "delete_cmd_postfix": "",
     "delete_cmd_prefix": "del ",
     "library": "var_list.py",
     "varRefreshCmd": "print(var_dic_list())"
    },
    "r": {
     "delete_cmd_postfix": ") ",
     "delete_cmd_prefix": "rm(",
     "library": "var_list.r",
     "varRefreshCmd": "cat(var_dic_list()) "
    }
   },
   "types_to_exclude": [
    "module",
    "function",
    "builtin_function_or_method",
    "instance",
    "_Feature"
   ],
   "window_display": false
  }
 },
 "nbformat": 4,
 "nbformat_minor": 5
}
