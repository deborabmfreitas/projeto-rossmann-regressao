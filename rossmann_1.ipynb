{
 "cells": [
  {
   "cell_type": "markdown",
   "id": "85f35355",
   "metadata": {
    "heading_collapsed": true
   },
   "source": [
    "## Bibliotecas"
   ]
  },
  {
   "cell_type": "code",
   "execution_count": 5,
   "id": "928057da",
   "metadata": {
    "ExecuteTime": {
     "end_time": "2023-01-20T13:51:31.832645Z",
     "start_time": "2023-01-20T13:51:31.816744Z"
    },
    "hidden": true
   },
   "outputs": [],
   "source": [
    "import pandas as pd\n",
    "import numpy as np\n",
    "import inflection\n",
    "import math\n",
    "import seaborn as sns"
   ]
  },
  {
   "cell_type": "markdown",
   "id": "9c748fcf",
   "metadata": {
    "heading_collapsed": true
   },
   "source": [
    "## Entendendo os dados originais da Rossmann"
   ]
  },
  {
   "cell_type": "markdown",
   "id": "da58a906",
   "metadata": {
    "hidden": true
   },
   "source": [
    "\n",
    "##### 0. store:\n",
    "- um ID exclusivo para cada loja\n",
    "\n",
    "##### 1. day_of_week:\n",
    "- dia da semana em que a venda ocorreu (dados não descritos)\n",
    "\n",
    "##### 2. date:\n",
    "- data de venda (dados não descritos)\n",
    "\n",
    "##### 3. sales:\n",
    "- o volume de negócios para um determinado dia (isto é o que você está prevendo) \n",
    "\n",
    "##### 4. customers\n",
    "- o número de clientes em um determinado dia  \n",
    "\n",
    "##### 5. open: \n",
    "- um indicador para saber se a loja estava aberta: 0 = fechado, 1 = aberto  \n",
    "\n",
    "##### 6.  promo:\n",
    "- indica se uma loja está realizando uma promoção naquele dia\n",
    "\n",
    "##### 7. state_holiday:\n",
    "- indica um feriado estadual. Normalmente todas as lojas, com poucas exceções, fecham nos feriados estaduais. Observe que todas as escolas fecham nos feriados e fins de semana. a = feriado, b = feriado da Páscoa, c = Natal, 0 = nenhum\n",
    "\n",
    "##### 8. school_holiday:\n",
    "- indica se o (store, date) foi afetado pelo fechamento das escolas públicas\n",
    "\n",
    "##### 9. store_type:\n",
    "- diferencia entre 4 modelos de loja diferentes: a, b, c, d\n",
    "\n",
    "##### 10. assortment: \n",
    "- descreve um nível de sortimento: a = básico, b = extra, c = estendido\n",
    "\n",
    "##### 11. competition_distance:\n",
    "- distância em metros até a loja concorrente mais próxima\n",
    "\n",
    "##### 12. competition_open_since_month:\n",
    "- fornece o mês aproximado em que o concorrente mais próximo foi aberto\n",
    "\n",
    "##### 13. competition_open_since_year:\n",
    "- fornece o ano aproximado em que o concorrente mais próximo foi aberto\n",
    "\n",
    "##### 14 . promo2:\n",
    "- promo2 é uma promoção contínua e consecutiva para algumas lojas: 0 = a loja não está participando, 1 = a loja está participando\n",
    "\n",
    "##### 15. promo2_since_week:\n",
    "- descreve a semana em que a loja começou a participar da 'promo2'\n",
    "\n",
    "##### 16. promo2_since_year\n",
    "- descreve o ano em que a loja começou a participar da 'promo2'\n",
    "\n",
    "##### 17.  promo_interval:\n",
    "- meses em que a promo2 ficou ativa"
   ]
  },
  {
   "cell_type": "markdown",
   "id": "0aa6d2a0",
   "metadata": {
    "heading_collapsed": true
   },
   "source": [
    "## Carregamento dos dados"
   ]
  },
  {
   "cell_type": "code",
   "execution_count": 7,
   "id": "7361eb5f",
   "metadata": {
    "ExecuteTime": {
     "end_time": "2023-01-20T13:51:35.206050Z",
     "start_time": "2023-01-20T13:51:31.873193Z"
    },
    "hidden": true
   },
   "outputs": [],
   "source": [
    "df_sales_raw = pd.read_csv('data/train.csv', low_memory=False)\n",
    "df_store_raw = pd.read_csv('data/store.csv', low_memory=False)\n",
    "\n",
    "# merge (unindo os arquivos csv)\n",
    "df_raw = pd.merge(df_sales_raw, df_store_raw, how='left', on='Store')"
   ]
  },
  {
   "cell_type": "markdown",
   "id": "f761986f",
   "metadata": {
    "heading_collapsed": true
   },
   "source": [
    "## Funções adicionais"
   ]
  },
  {
   "cell_type": "code",
   "execution_count": null,
   "id": "f35efd50",
   "metadata": {
    "hidden": true
   },
   "outputs": [],
   "source": []
  },
  {
   "cell_type": "markdown",
   "id": "476d761f",
   "metadata": {},
   "source": [
    "## Descrição dos dados"
   ]
  },
  {
   "cell_type": "markdown",
   "id": "8b4c1f47",
   "metadata": {
    "heading_collapsed": true
   },
   "source": [
    "### 1. Renomeando colunas"
   ]
  },
  {
   "cell_type": "code",
   "execution_count": 8,
   "id": "3a106533",
   "metadata": {
    "ExecuteTime": {
     "end_time": "2023-01-20T13:51:36.528175Z",
     "start_time": "2023-01-20T13:51:35.213596Z"
    },
    "hidden": true
   },
   "outputs": [],
   "source": [
    "# criando uma cópia do dataset para trabalhar com os dados\n",
    "df1 = df_raw.copy()"
   ]
  },
  {
   "cell_type": "code",
   "execution_count": 9,
   "id": "cd01c7cb",
   "metadata": {
    "ExecuteTime": {
     "end_time": "2023-01-20T13:51:36.567968Z",
     "start_time": "2023-01-20T13:51:36.537160Z"
    },
    "hidden": true
   },
   "outputs": [
    {
     "data": {
      "text/plain": [
       "Index(['Store', 'DayOfWeek', 'Date', 'Sales', 'Customers', 'Open', 'Promo',\n",
       "       'StateHoliday', 'SchoolHoliday', 'StoreType', 'Assortment',\n",
       "       'CompetitionDistance', 'CompetitionOpenSinceMonth',\n",
       "       'CompetitionOpenSinceYear', 'Promo2', 'Promo2SinceWeek',\n",
       "       'Promo2SinceYear', 'PromoInterval'],\n",
       "      dtype='object')"
      ]
     },
     "execution_count": 9,
     "metadata": {},
     "output_type": "execute_result"
    }
   ],
   "source": [
    "# nomes das colunas antigas\n",
    "df1.columns"
   ]
  },
  {
   "cell_type": "code",
   "execution_count": 10,
   "id": "39c27088",
   "metadata": {
    "ExecuteTime": {
     "end_time": "2023-01-20T13:51:36.602807Z",
     "start_time": "2023-01-20T13:51:36.581406Z"
    },
    "hidden": true
   },
   "outputs": [],
   "source": [
    "cols_originais = ['Store', 'DayOfWeek', 'Date', 'Sales', 'Customers', 'Open', 'Promo', 'StateHoliday',\n",
    "                  'SchoolHoliday', 'StoreType', 'Assortment', 'CompetitionDistance', 'CompetitionOpenSinceMonth',\n",
    "                  'CompetitionOpenSinceYear', 'Promo2', 'Promo2SinceWeek', 'Promo2SinceYear', 'PromoInterval']\n",
    "\n",
    "\n",
    "# criar função para modificar os nomes\n",
    "def snakecase(x):\n",
    "    return inflection.underscore(x)\n",
    "\n",
    "\n",
    "# salvar colunas novas e aplicar função anterior utilizando o map\n",
    "cols_novas = list(map(snakecase, cols_originais))\n",
    "\n",
    "# renomear\n",
    "df1.columns = cols_novas"
   ]
  },
  {
   "cell_type": "code",
   "execution_count": 11,
   "id": "ed5e83d5",
   "metadata": {
    "ExecuteTime": {
     "end_time": "2023-01-20T13:51:36.632262Z",
     "start_time": "2023-01-20T13:51:36.613089Z"
    },
    "hidden": true
   },
   "outputs": [
    {
     "data": {
      "text/plain": [
       "Index(['store', 'day_of_week', 'date', 'sales', 'customers', 'open', 'promo',\n",
       "       'state_holiday', 'school_holiday', 'store_type', 'assortment',\n",
       "       'competition_distance', 'competition_open_since_month',\n",
       "       'competition_open_since_year', 'promo2', 'promo2_since_week',\n",
       "       'promo2_since_year', 'promo_interval'],\n",
       "      dtype='object')"
      ]
     },
     "execution_count": 11,
     "metadata": {},
     "output_type": "execute_result"
    }
   ],
   "source": [
    "# checar modificação nos nomes das colunas\n",
    "\n",
    "df1.columns"
   ]
  },
  {
   "cell_type": "markdown",
   "id": "b9dae853",
   "metadata": {
    "heading_collapsed": true
   },
   "source": [
    "### 2. Verificando a dimensão dos dados"
   ]
  },
  {
   "cell_type": "code",
   "execution_count": 12,
   "id": "465c0f51",
   "metadata": {
    "ExecuteTime": {
     "end_time": "2023-01-20T13:51:36.653981Z",
     "start_time": "2023-01-20T13:51:36.640077Z"
    },
    "hidden": true
   },
   "outputs": [
    {
     "name": "stdout",
     "output_type": "stream",
     "text": [
      "Linhas: 1017209\n",
      "Colunas: 18\n"
     ]
    }
   ],
   "source": [
    "print(f'Linhas: {df1.shape[0]}')\n",
    "print(f'Colunas: {df1.shape[1]}')"
   ]
  },
  {
   "cell_type": "markdown",
   "id": "19ef9f53",
   "metadata": {
    "heading_collapsed": true
   },
   "source": [
    "### 3. Verificando os tipos de dados"
   ]
  },
  {
   "cell_type": "code",
   "execution_count": 13,
   "id": "74d4a4cf",
   "metadata": {
    "ExecuteTime": {
     "end_time": "2023-01-20T13:51:36.689059Z",
     "start_time": "2023-01-20T13:51:36.661956Z"
    },
    "hidden": true
   },
   "outputs": [
    {
     "data": {
      "text/plain": [
       "store                             int64\n",
       "day_of_week                       int64\n",
       "date                             object\n",
       "sales                             int64\n",
       "customers                         int64\n",
       "open                              int64\n",
       "promo                             int64\n",
       "state_holiday                    object\n",
       "school_holiday                    int64\n",
       "store_type                       object\n",
       "assortment                       object\n",
       "competition_distance            float64\n",
       "competition_open_since_month    float64\n",
       "competition_open_since_year     float64\n",
       "promo2                            int64\n",
       "promo2_since_week               float64\n",
       "promo2_since_year               float64\n",
       "promo_interval                   object\n",
       "dtype: object"
      ]
     },
     "execution_count": 13,
     "metadata": {},
     "output_type": "execute_result"
    }
   ],
   "source": [
    "df1.dtypes"
   ]
  },
  {
   "cell_type": "code",
   "execution_count": 14,
   "id": "d35bce9a",
   "metadata": {
    "ExecuteTime": {
     "end_time": "2023-01-20T13:51:36.984669Z",
     "start_time": "2023-01-20T13:51:36.707472Z"
    },
    "hidden": true
   },
   "outputs": [],
   "source": [
    "# coluna 'date' de object para datetime\n",
    "df1['date'] = pd.to_datetime(df1['date'])"
   ]
  },
  {
   "cell_type": "code",
   "execution_count": 15,
   "id": "a2408e15",
   "metadata": {
    "ExecuteTime": {
     "end_time": "2023-01-20T13:51:37.005936Z",
     "start_time": "2023-01-20T13:51:36.992653Z"
    },
    "hidden": true
   },
   "outputs": [
    {
     "data": {
      "text/plain": [
       "store                                    int64\n",
       "day_of_week                              int64\n",
       "date                            datetime64[ns]\n",
       "sales                                    int64\n",
       "customers                                int64\n",
       "open                                     int64\n",
       "promo                                    int64\n",
       "state_holiday                           object\n",
       "school_holiday                           int64\n",
       "store_type                              object\n",
       "assortment                              object\n",
       "competition_distance                   float64\n",
       "competition_open_since_month           float64\n",
       "competition_open_since_year            float64\n",
       "promo2                                   int64\n",
       "promo2_since_week                      float64\n",
       "promo2_since_year                      float64\n",
       "promo_interval                          object\n",
       "dtype: object"
      ]
     },
     "execution_count": 15,
     "metadata": {},
     "output_type": "execute_result"
    }
   ],
   "source": [
    "# checando modificações\n",
    "df1.dtypes"
   ]
  },
  {
   "cell_type": "markdown",
   "id": "b4f2c944",
   "metadata": {
    "heading_collapsed": true
   },
   "source": [
    "### 4. Checando dados nulos (NA)"
   ]
  },
  {
   "cell_type": "code",
   "execution_count": 16,
   "id": "565fef84",
   "metadata": {
    "ExecuteTime": {
     "end_time": "2023-01-20T13:51:38.397885Z",
     "start_time": "2023-01-20T13:51:37.018870Z"
    },
    "hidden": true
   },
   "outputs": [
    {
     "data": {
      "text/plain": [
       "store                                0\n",
       "day_of_week                          0\n",
       "date                                 0\n",
       "sales                                0\n",
       "customers                            0\n",
       "open                                 0\n",
       "promo                                0\n",
       "state_holiday                        0\n",
       "school_holiday                       0\n",
       "store_type                           0\n",
       "assortment                           0\n",
       "competition_distance              2642\n",
       "competition_open_since_month    323348\n",
       "competition_open_since_year     323348\n",
       "promo2                               0\n",
       "promo2_since_week               508031\n",
       "promo2_since_year               508031\n",
       "promo_interval                  508031\n",
       "dtype: int64"
      ]
     },
     "execution_count": 16,
     "metadata": {},
     "output_type": "execute_result"
    }
   ],
   "source": [
    "df1.isna().sum()"
   ]
  },
  {
   "cell_type": "markdown",
   "id": "cec083fd",
   "metadata": {
    "heading_collapsed": true
   },
   "source": [
    "### 5. Substituindo as colunas que possuem dados nulos"
   ]
  },
  {
   "cell_type": "markdown",
   "id": "212ac2e0",
   "metadata": {
    "hidden": true
   },
   "source": [
    "##### comptetition_distance:\n",
    "- distância em metros do competidor mais próximo\n",
    "- sugestão: substituir os dados nulos por um número acima do valor máximo de distância, pois ou não há competidor ou está longe o suficiente para não ser considerado um\n",
    "\n",
    "##### competition_open_since_month:\n",
    "- mês que o competidor mais próximo foi aberto\n",
    "- sugestão: substituir os dados nulos do mês de abertura pelo mês da data de venda registrada (coluna 'date') na linha\n",
    "\n",
    "##### competition_open_since_year:\n",
    "- ano que o competidor mais pŕoximo foi aberto\n",
    "- sugestão: substituir os dados nulos do ano de abertura pelo ano da data de venda registrada (coluna 'date') na linha\n",
    "\n",
    "##### OBSERVAÇÃO:\n",
    "- coluna promo2: significa continuação de uma promoção, 0 -  não está participando; 1- está participando\n",
    "- as colunas seguintes dependem dessa\n",
    "- importante: sempre onde a promo2 é 0, os dados seguintes são nulos, ou seja, apenas significam que não houve promo2\n",
    "\n",
    "##### promo2_since_week:\n",
    "- semana em que a loja começou a participar da promo2\n",
    "- sugestão: substituir os dados nulos extraindo a semana da data de venda registrada (coluna 'date')\n",
    "\n",
    "##### promo2_since_year:\n",
    "- ano em que a loja começou a participar da promo2\n",
    "- sugestão:substituir os dados nulos extraindo o ano da data de venda registrada (coluna 'date')\n",
    "\n",
    "##### promo_interval:\n",
    "- meses em que a promo2 ficou ativa\n",
    "\n",
    "- sugestão 1: substituir dados nulos da 'promo_interval' por 0\n",
    "\n",
    "- sugestão 2 ['month_map']: adicionar meses na coluna nova 'month_map' de acordo com o mês presente na coluna de data de venda 'date'\n",
    "\n",
    "- sugestão 3 ['is_promo']: se o mês 'month_map' estiver dentro da lista presente em 'promo_interval', adicionar: 1-tem promoção; 0-não tem promoção."
   ]
  },
  {
   "cell_type": "code",
   "execution_count": 35,
   "id": "7279ee4d",
   "metadata": {
    "ExecuteTime": {
     "end_time": "2023-01-20T14:20:45.808387Z",
     "start_time": "2023-01-20T14:20:33.223830Z"
    },
    "hidden": true
   },
   "outputs": [
    {
     "data": {
      "text/html": [
       "<div>\n",
       "<style scoped>\n",
       "    .dataframe tbody tr th:only-of-type {\n",
       "        vertical-align: middle;\n",
       "    }\n",
       "\n",
       "    .dataframe tbody tr th {\n",
       "        vertical-align: top;\n",
       "    }\n",
       "\n",
       "    .dataframe thead th {\n",
       "        text-align: right;\n",
       "    }\n",
       "</style>\n",
       "<table border=\"1\" class=\"dataframe\">\n",
       "  <thead>\n",
       "    <tr style=\"text-align: right;\">\n",
       "      <th></th>\n",
       "      <th>0</th>\n",
       "      <th>1</th>\n",
       "      <th>2</th>\n",
       "      <th>3</th>\n",
       "      <th>4</th>\n",
       "      <th>5</th>\n",
       "      <th>6</th>\n",
       "      <th>7</th>\n",
       "      <th>8</th>\n",
       "      <th>9</th>\n",
       "      <th>...</th>\n",
       "      <th>1017199</th>\n",
       "      <th>1017200</th>\n",
       "      <th>1017201</th>\n",
       "      <th>1017202</th>\n",
       "      <th>1017203</th>\n",
       "      <th>1017204</th>\n",
       "      <th>1017205</th>\n",
       "      <th>1017206</th>\n",
       "      <th>1017207</th>\n",
       "      <th>1017208</th>\n",
       "    </tr>\n",
       "  </thead>\n",
       "  <tbody>\n",
       "    <tr>\n",
       "      <th>store</th>\n",
       "      <td>1</td>\n",
       "      <td>2</td>\n",
       "      <td>3</td>\n",
       "      <td>4</td>\n",
       "      <td>5</td>\n",
       "      <td>6</td>\n",
       "      <td>7</td>\n",
       "      <td>8</td>\n",
       "      <td>9</td>\n",
       "      <td>10</td>\n",
       "      <td>...</td>\n",
       "      <td>1106</td>\n",
       "      <td>1107</td>\n",
       "      <td>1108</td>\n",
       "      <td>1109</td>\n",
       "      <td>1110</td>\n",
       "      <td>1111</td>\n",
       "      <td>1112</td>\n",
       "      <td>1113</td>\n",
       "      <td>1114</td>\n",
       "      <td>1115</td>\n",
       "    </tr>\n",
       "    <tr>\n",
       "      <th>day_of_week</th>\n",
       "      <td>5</td>\n",
       "      <td>5</td>\n",
       "      <td>5</td>\n",
       "      <td>5</td>\n",
       "      <td>5</td>\n",
       "      <td>5</td>\n",
       "      <td>5</td>\n",
       "      <td>5</td>\n",
       "      <td>5</td>\n",
       "      <td>5</td>\n",
       "      <td>...</td>\n",
       "      <td>2</td>\n",
       "      <td>2</td>\n",
       "      <td>2</td>\n",
       "      <td>2</td>\n",
       "      <td>2</td>\n",
       "      <td>2</td>\n",
       "      <td>2</td>\n",
       "      <td>2</td>\n",
       "      <td>2</td>\n",
       "      <td>2</td>\n",
       "    </tr>\n",
       "    <tr>\n",
       "      <th>date</th>\n",
       "      <td>2015-07-31 00:00:00</td>\n",
       "      <td>2015-07-31 00:00:00</td>\n",
       "      <td>2015-07-31 00:00:00</td>\n",
       "      <td>2015-07-31 00:00:00</td>\n",
       "      <td>2015-07-31 00:00:00</td>\n",
       "      <td>2015-07-31 00:00:00</td>\n",
       "      <td>2015-07-31 00:00:00</td>\n",
       "      <td>2015-07-31 00:00:00</td>\n",
       "      <td>2015-07-31 00:00:00</td>\n",
       "      <td>2015-07-31 00:00:00</td>\n",
       "      <td>...</td>\n",
       "      <td>2013-01-01 00:00:00</td>\n",
       "      <td>2013-01-01 00:00:00</td>\n",
       "      <td>2013-01-01 00:00:00</td>\n",
       "      <td>2013-01-01 00:00:00</td>\n",
       "      <td>2013-01-01 00:00:00</td>\n",
       "      <td>2013-01-01 00:00:00</td>\n",
       "      <td>2013-01-01 00:00:00</td>\n",
       "      <td>2013-01-01 00:00:00</td>\n",
       "      <td>2013-01-01 00:00:00</td>\n",
       "      <td>2013-01-01 00:00:00</td>\n",
       "    </tr>\n",
       "    <tr>\n",
       "      <th>sales</th>\n",
       "      <td>5263</td>\n",
       "      <td>6064</td>\n",
       "      <td>8314</td>\n",
       "      <td>13995</td>\n",
       "      <td>4822</td>\n",
       "      <td>5651</td>\n",
       "      <td>15344</td>\n",
       "      <td>8492</td>\n",
       "      <td>8565</td>\n",
       "      <td>7185</td>\n",
       "      <td>...</td>\n",
       "      <td>0</td>\n",
       "      <td>0</td>\n",
       "      <td>0</td>\n",
       "      <td>0</td>\n",
       "      <td>0</td>\n",
       "      <td>0</td>\n",
       "      <td>0</td>\n",
       "      <td>0</td>\n",
       "      <td>0</td>\n",
       "      <td>0</td>\n",
       "    </tr>\n",
       "    <tr>\n",
       "      <th>customers</th>\n",
       "      <td>555</td>\n",
       "      <td>625</td>\n",
       "      <td>821</td>\n",
       "      <td>1498</td>\n",
       "      <td>559</td>\n",
       "      <td>589</td>\n",
       "      <td>1414</td>\n",
       "      <td>833</td>\n",
       "      <td>687</td>\n",
       "      <td>681</td>\n",
       "      <td>...</td>\n",
       "      <td>0</td>\n",
       "      <td>0</td>\n",
       "      <td>0</td>\n",
       "      <td>0</td>\n",
       "      <td>0</td>\n",
       "      <td>0</td>\n",
       "      <td>0</td>\n",
       "      <td>0</td>\n",
       "      <td>0</td>\n",
       "      <td>0</td>\n",
       "    </tr>\n",
       "    <tr>\n",
       "      <th>open</th>\n",
       "      <td>1</td>\n",
       "      <td>1</td>\n",
       "      <td>1</td>\n",
       "      <td>1</td>\n",
       "      <td>1</td>\n",
       "      <td>1</td>\n",
       "      <td>1</td>\n",
       "      <td>1</td>\n",
       "      <td>1</td>\n",
       "      <td>1</td>\n",
       "      <td>...</td>\n",
       "      <td>0</td>\n",
       "      <td>0</td>\n",
       "      <td>0</td>\n",
       "      <td>0</td>\n",
       "      <td>0</td>\n",
       "      <td>0</td>\n",
       "      <td>0</td>\n",
       "      <td>0</td>\n",
       "      <td>0</td>\n",
       "      <td>0</td>\n",
       "    </tr>\n",
       "    <tr>\n",
       "      <th>promo</th>\n",
       "      <td>1</td>\n",
       "      <td>1</td>\n",
       "      <td>1</td>\n",
       "      <td>1</td>\n",
       "      <td>1</td>\n",
       "      <td>1</td>\n",
       "      <td>1</td>\n",
       "      <td>1</td>\n",
       "      <td>1</td>\n",
       "      <td>1</td>\n",
       "      <td>...</td>\n",
       "      <td>0</td>\n",
       "      <td>0</td>\n",
       "      <td>0</td>\n",
       "      <td>0</td>\n",
       "      <td>0</td>\n",
       "      <td>0</td>\n",
       "      <td>0</td>\n",
       "      <td>0</td>\n",
       "      <td>0</td>\n",
       "      <td>0</td>\n",
       "    </tr>\n",
       "    <tr>\n",
       "      <th>state_holiday</th>\n",
       "      <td>0</td>\n",
       "      <td>0</td>\n",
       "      <td>0</td>\n",
       "      <td>0</td>\n",
       "      <td>0</td>\n",
       "      <td>0</td>\n",
       "      <td>0</td>\n",
       "      <td>0</td>\n",
       "      <td>0</td>\n",
       "      <td>0</td>\n",
       "      <td>...</td>\n",
       "      <td>a</td>\n",
       "      <td>a</td>\n",
       "      <td>a</td>\n",
       "      <td>a</td>\n",
       "      <td>a</td>\n",
       "      <td>a</td>\n",
       "      <td>a</td>\n",
       "      <td>a</td>\n",
       "      <td>a</td>\n",
       "      <td>a</td>\n",
       "    </tr>\n",
       "    <tr>\n",
       "      <th>school_holiday</th>\n",
       "      <td>1</td>\n",
       "      <td>1</td>\n",
       "      <td>1</td>\n",
       "      <td>1</td>\n",
       "      <td>1</td>\n",
       "      <td>1</td>\n",
       "      <td>1</td>\n",
       "      <td>1</td>\n",
       "      <td>1</td>\n",
       "      <td>1</td>\n",
       "      <td>...</td>\n",
       "      <td>1</td>\n",
       "      <td>1</td>\n",
       "      <td>1</td>\n",
       "      <td>1</td>\n",
       "      <td>1</td>\n",
       "      <td>1</td>\n",
       "      <td>1</td>\n",
       "      <td>1</td>\n",
       "      <td>1</td>\n",
       "      <td>1</td>\n",
       "    </tr>\n",
       "    <tr>\n",
       "      <th>store_type</th>\n",
       "      <td>c</td>\n",
       "      <td>a</td>\n",
       "      <td>a</td>\n",
       "      <td>c</td>\n",
       "      <td>a</td>\n",
       "      <td>a</td>\n",
       "      <td>a</td>\n",
       "      <td>a</td>\n",
       "      <td>a</td>\n",
       "      <td>a</td>\n",
       "      <td>...</td>\n",
       "      <td>a</td>\n",
       "      <td>a</td>\n",
       "      <td>a</td>\n",
       "      <td>c</td>\n",
       "      <td>c</td>\n",
       "      <td>a</td>\n",
       "      <td>c</td>\n",
       "      <td>a</td>\n",
       "      <td>a</td>\n",
       "      <td>d</td>\n",
       "    </tr>\n",
       "    <tr>\n",
       "      <th>assortment</th>\n",
       "      <td>a</td>\n",
       "      <td>a</td>\n",
       "      <td>a</td>\n",
       "      <td>c</td>\n",
       "      <td>a</td>\n",
       "      <td>a</td>\n",
       "      <td>c</td>\n",
       "      <td>a</td>\n",
       "      <td>c</td>\n",
       "      <td>a</td>\n",
       "      <td>...</td>\n",
       "      <td>c</td>\n",
       "      <td>a</td>\n",
       "      <td>a</td>\n",
       "      <td>a</td>\n",
       "      <td>c</td>\n",
       "      <td>a</td>\n",
       "      <td>c</td>\n",
       "      <td>c</td>\n",
       "      <td>c</td>\n",
       "      <td>c</td>\n",
       "    </tr>\n",
       "    <tr>\n",
       "      <th>competition_distance</th>\n",
       "      <td>1270.0</td>\n",
       "      <td>570.0</td>\n",
       "      <td>14130.0</td>\n",
       "      <td>620.0</td>\n",
       "      <td>29910.0</td>\n",
       "      <td>310.0</td>\n",
       "      <td>24000.0</td>\n",
       "      <td>7520.0</td>\n",
       "      <td>2030.0</td>\n",
       "      <td>3160.0</td>\n",
       "      <td>...</td>\n",
       "      <td>5330.0</td>\n",
       "      <td>1400.0</td>\n",
       "      <td>540.0</td>\n",
       "      <td>3490.0</td>\n",
       "      <td>900.0</td>\n",
       "      <td>1900.0</td>\n",
       "      <td>1880.0</td>\n",
       "      <td>9260.0</td>\n",
       "      <td>870.0</td>\n",
       "      <td>5350.0</td>\n",
       "    </tr>\n",
       "    <tr>\n",
       "      <th>competition_open_since_month</th>\n",
       "      <td>9</td>\n",
       "      <td>11</td>\n",
       "      <td>12</td>\n",
       "      <td>9</td>\n",
       "      <td>4</td>\n",
       "      <td>12</td>\n",
       "      <td>4</td>\n",
       "      <td>10</td>\n",
       "      <td>8</td>\n",
       "      <td>9</td>\n",
       "      <td>...</td>\n",
       "      <td>9</td>\n",
       "      <td>6</td>\n",
       "      <td>4</td>\n",
       "      <td>4</td>\n",
       "      <td>9</td>\n",
       "      <td>6</td>\n",
       "      <td>4</td>\n",
       "      <td>1</td>\n",
       "      <td>1</td>\n",
       "      <td>1</td>\n",
       "    </tr>\n",
       "    <tr>\n",
       "      <th>competition_open_since_year</th>\n",
       "      <td>2008</td>\n",
       "      <td>2007</td>\n",
       "      <td>2006</td>\n",
       "      <td>2009</td>\n",
       "      <td>2015</td>\n",
       "      <td>2013</td>\n",
       "      <td>2013</td>\n",
       "      <td>2014</td>\n",
       "      <td>2000</td>\n",
       "      <td>2009</td>\n",
       "      <td>...</td>\n",
       "      <td>2011</td>\n",
       "      <td>2012</td>\n",
       "      <td>2004</td>\n",
       "      <td>2011</td>\n",
       "      <td>2010</td>\n",
       "      <td>2014</td>\n",
       "      <td>2006</td>\n",
       "      <td>2013</td>\n",
       "      <td>2013</td>\n",
       "      <td>2013</td>\n",
       "    </tr>\n",
       "    <tr>\n",
       "      <th>promo2</th>\n",
       "      <td>0</td>\n",
       "      <td>1</td>\n",
       "      <td>1</td>\n",
       "      <td>0</td>\n",
       "      <td>0</td>\n",
       "      <td>0</td>\n",
       "      <td>0</td>\n",
       "      <td>0</td>\n",
       "      <td>0</td>\n",
       "      <td>0</td>\n",
       "      <td>...</td>\n",
       "      <td>1</td>\n",
       "      <td>1</td>\n",
       "      <td>0</td>\n",
       "      <td>1</td>\n",
       "      <td>0</td>\n",
       "      <td>1</td>\n",
       "      <td>0</td>\n",
       "      <td>0</td>\n",
       "      <td>0</td>\n",
       "      <td>1</td>\n",
       "    </tr>\n",
       "    <tr>\n",
       "      <th>promo2_since_week</th>\n",
       "      <td>31</td>\n",
       "      <td>13</td>\n",
       "      <td>14</td>\n",
       "      <td>31</td>\n",
       "      <td>31</td>\n",
       "      <td>31</td>\n",
       "      <td>31</td>\n",
       "      <td>31</td>\n",
       "      <td>31</td>\n",
       "      <td>31</td>\n",
       "      <td>...</td>\n",
       "      <td>31</td>\n",
       "      <td>13</td>\n",
       "      <td>1</td>\n",
       "      <td>22</td>\n",
       "      <td>1</td>\n",
       "      <td>31</td>\n",
       "      <td>1</td>\n",
       "      <td>1</td>\n",
       "      <td>1</td>\n",
       "      <td>22</td>\n",
       "    </tr>\n",
       "    <tr>\n",
       "      <th>promo2_since_year</th>\n",
       "      <td>2015</td>\n",
       "      <td>2010</td>\n",
       "      <td>2011</td>\n",
       "      <td>2015</td>\n",
       "      <td>2015</td>\n",
       "      <td>2015</td>\n",
       "      <td>2015</td>\n",
       "      <td>2015</td>\n",
       "      <td>2015</td>\n",
       "      <td>2015</td>\n",
       "      <td>...</td>\n",
       "      <td>2013</td>\n",
       "      <td>2010</td>\n",
       "      <td>2013</td>\n",
       "      <td>2012</td>\n",
       "      <td>2013</td>\n",
       "      <td>2013</td>\n",
       "      <td>2013</td>\n",
       "      <td>2013</td>\n",
       "      <td>2013</td>\n",
       "      <td>2012</td>\n",
       "    </tr>\n",
       "    <tr>\n",
       "      <th>promo_interval</th>\n",
       "      <td>0</td>\n",
       "      <td>Jan,Apr,Jul,Oct</td>\n",
       "      <td>Jan,Apr,Jul,Oct</td>\n",
       "      <td>0</td>\n",
       "      <td>0</td>\n",
       "      <td>0</td>\n",
       "      <td>0</td>\n",
       "      <td>0</td>\n",
       "      <td>0</td>\n",
       "      <td>0</td>\n",
       "      <td>...</td>\n",
       "      <td>Jan,Apr,Jul,Oct</td>\n",
       "      <td>Jan,Apr,Jul,Oct</td>\n",
       "      <td>0</td>\n",
       "      <td>Jan,Apr,Jul,Oct</td>\n",
       "      <td>0</td>\n",
       "      <td>Jan,Apr,Jul,Oct</td>\n",
       "      <td>0</td>\n",
       "      <td>0</td>\n",
       "      <td>0</td>\n",
       "      <td>Mar,Jun,Sept,Dec</td>\n",
       "    </tr>\n",
       "    <tr>\n",
       "      <th>month_map</th>\n",
       "      <td>Jul</td>\n",
       "      <td>Jul</td>\n",
       "      <td>Jul</td>\n",
       "      <td>Jul</td>\n",
       "      <td>Jul</td>\n",
       "      <td>Jul</td>\n",
       "      <td>Jul</td>\n",
       "      <td>Jul</td>\n",
       "      <td>Jul</td>\n",
       "      <td>Jul</td>\n",
       "      <td>...</td>\n",
       "      <td>Jan</td>\n",
       "      <td>Jan</td>\n",
       "      <td>Jan</td>\n",
       "      <td>Jan</td>\n",
       "      <td>Jan</td>\n",
       "      <td>Jan</td>\n",
       "      <td>Jan</td>\n",
       "      <td>Jan</td>\n",
       "      <td>Jan</td>\n",
       "      <td>Jan</td>\n",
       "    </tr>\n",
       "    <tr>\n",
       "      <th>is_promo</th>\n",
       "      <td>0</td>\n",
       "      <td>1</td>\n",
       "      <td>1</td>\n",
       "      <td>0</td>\n",
       "      <td>0</td>\n",
       "      <td>0</td>\n",
       "      <td>0</td>\n",
       "      <td>0</td>\n",
       "      <td>0</td>\n",
       "      <td>0</td>\n",
       "      <td>...</td>\n",
       "      <td>1</td>\n",
       "      <td>1</td>\n",
       "      <td>0</td>\n",
       "      <td>1</td>\n",
       "      <td>0</td>\n",
       "      <td>1</td>\n",
       "      <td>0</td>\n",
       "      <td>0</td>\n",
       "      <td>0</td>\n",
       "      <td>0</td>\n",
       "    </tr>\n",
       "  </tbody>\n",
       "</table>\n",
       "<p>20 rows × 1017209 columns</p>\n",
       "</div>"
      ],
      "text/plain": [
       "                                          0                    1        \\\n",
       "store                                           1                    2   \n",
       "day_of_week                                     5                    5   \n",
       "date                          2015-07-31 00:00:00  2015-07-31 00:00:00   \n",
       "sales                                        5263                 6064   \n",
       "customers                                     555                  625   \n",
       "open                                            1                    1   \n",
       "promo                                           1                    1   \n",
       "state_holiday                                   0                    0   \n",
       "school_holiday                                  1                    1   \n",
       "store_type                                      c                    a   \n",
       "assortment                                      a                    a   \n",
       "competition_distance                       1270.0                570.0   \n",
       "competition_open_since_month                    9                   11   \n",
       "competition_open_since_year                  2008                 2007   \n",
       "promo2                                          0                    1   \n",
       "promo2_since_week                              31                   13   \n",
       "promo2_since_year                            2015                 2010   \n",
       "promo_interval                                  0      Jan,Apr,Jul,Oct   \n",
       "month_map                                     Jul                  Jul   \n",
       "is_promo                                        0                    1   \n",
       "\n",
       "                                          2                    3        \\\n",
       "store                                           3                    4   \n",
       "day_of_week                                     5                    5   \n",
       "date                          2015-07-31 00:00:00  2015-07-31 00:00:00   \n",
       "sales                                        8314                13995   \n",
       "customers                                     821                 1498   \n",
       "open                                            1                    1   \n",
       "promo                                           1                    1   \n",
       "state_holiday                                   0                    0   \n",
       "school_holiday                                  1                    1   \n",
       "store_type                                      a                    c   \n",
       "assortment                                      a                    c   \n",
       "competition_distance                      14130.0                620.0   \n",
       "competition_open_since_month                   12                    9   \n",
       "competition_open_since_year                  2006                 2009   \n",
       "promo2                                          1                    0   \n",
       "promo2_since_week                              14                   31   \n",
       "promo2_since_year                            2011                 2015   \n",
       "promo_interval                    Jan,Apr,Jul,Oct                    0   \n",
       "month_map                                     Jul                  Jul   \n",
       "is_promo                                        1                    0   \n",
       "\n",
       "                                          4                    5        \\\n",
       "store                                           5                    6   \n",
       "day_of_week                                     5                    5   \n",
       "date                          2015-07-31 00:00:00  2015-07-31 00:00:00   \n",
       "sales                                        4822                 5651   \n",
       "customers                                     559                  589   \n",
       "open                                            1                    1   \n",
       "promo                                           1                    1   \n",
       "state_holiday                                   0                    0   \n",
       "school_holiday                                  1                    1   \n",
       "store_type                                      a                    a   \n",
       "assortment                                      a                    a   \n",
       "competition_distance                      29910.0                310.0   \n",
       "competition_open_since_month                    4                   12   \n",
       "competition_open_since_year                  2015                 2013   \n",
       "promo2                                          0                    0   \n",
       "promo2_since_week                              31                   31   \n",
       "promo2_since_year                            2015                 2015   \n",
       "promo_interval                                  0                    0   \n",
       "month_map                                     Jul                  Jul   \n",
       "is_promo                                        0                    0   \n",
       "\n",
       "                                          6                    7        \\\n",
       "store                                           7                    8   \n",
       "day_of_week                                     5                    5   \n",
       "date                          2015-07-31 00:00:00  2015-07-31 00:00:00   \n",
       "sales                                       15344                 8492   \n",
       "customers                                    1414                  833   \n",
       "open                                            1                    1   \n",
       "promo                                           1                    1   \n",
       "state_holiday                                   0                    0   \n",
       "school_holiday                                  1                    1   \n",
       "store_type                                      a                    a   \n",
       "assortment                                      c                    a   \n",
       "competition_distance                      24000.0               7520.0   \n",
       "competition_open_since_month                    4                   10   \n",
       "competition_open_since_year                  2013                 2014   \n",
       "promo2                                          0                    0   \n",
       "promo2_since_week                              31                   31   \n",
       "promo2_since_year                            2015                 2015   \n",
       "promo_interval                                  0                    0   \n",
       "month_map                                     Jul                  Jul   \n",
       "is_promo                                        0                    0   \n",
       "\n",
       "                                          8                    9        ...  \\\n",
       "store                                           9                   10  ...   \n",
       "day_of_week                                     5                    5  ...   \n",
       "date                          2015-07-31 00:00:00  2015-07-31 00:00:00  ...   \n",
       "sales                                        8565                 7185  ...   \n",
       "customers                                     687                  681  ...   \n",
       "open                                            1                    1  ...   \n",
       "promo                                           1                    1  ...   \n",
       "state_holiday                                   0                    0  ...   \n",
       "school_holiday                                  1                    1  ...   \n",
       "store_type                                      a                    a  ...   \n",
       "assortment                                      c                    a  ...   \n",
       "competition_distance                       2030.0               3160.0  ...   \n",
       "competition_open_since_month                    8                    9  ...   \n",
       "competition_open_since_year                  2000                 2009  ...   \n",
       "promo2                                          0                    0  ...   \n",
       "promo2_since_week                              31                   31  ...   \n",
       "promo2_since_year                            2015                 2015  ...   \n",
       "promo_interval                                  0                    0  ...   \n",
       "month_map                                     Jul                  Jul  ...   \n",
       "is_promo                                        0                    0  ...   \n",
       "\n",
       "                                          1017199              1017200  \\\n",
       "store                                        1106                 1107   \n",
       "day_of_week                                     2                    2   \n",
       "date                          2013-01-01 00:00:00  2013-01-01 00:00:00   \n",
       "sales                                           0                    0   \n",
       "customers                                       0                    0   \n",
       "open                                            0                    0   \n",
       "promo                                           0                    0   \n",
       "state_holiday                                   a                    a   \n",
       "school_holiday                                  1                    1   \n",
       "store_type                                      a                    a   \n",
       "assortment                                      c                    a   \n",
       "competition_distance                       5330.0               1400.0   \n",
       "competition_open_since_month                    9                    6   \n",
       "competition_open_since_year                  2011                 2012   \n",
       "promo2                                          1                    1   \n",
       "promo2_since_week                              31                   13   \n",
       "promo2_since_year                            2013                 2010   \n",
       "promo_interval                    Jan,Apr,Jul,Oct      Jan,Apr,Jul,Oct   \n",
       "month_map                                     Jan                  Jan   \n",
       "is_promo                                        1                    1   \n",
       "\n",
       "                                          1017201              1017202  \\\n",
       "store                                        1108                 1109   \n",
       "day_of_week                                     2                    2   \n",
       "date                          2013-01-01 00:00:00  2013-01-01 00:00:00   \n",
       "sales                                           0                    0   \n",
       "customers                                       0                    0   \n",
       "open                                            0                    0   \n",
       "promo                                           0                    0   \n",
       "state_holiday                                   a                    a   \n",
       "school_holiday                                  1                    1   \n",
       "store_type                                      a                    c   \n",
       "assortment                                      a                    a   \n",
       "competition_distance                        540.0               3490.0   \n",
       "competition_open_since_month                    4                    4   \n",
       "competition_open_since_year                  2004                 2011   \n",
       "promo2                                          0                    1   \n",
       "promo2_since_week                               1                   22   \n",
       "promo2_since_year                            2013                 2012   \n",
       "promo_interval                                  0      Jan,Apr,Jul,Oct   \n",
       "month_map                                     Jan                  Jan   \n",
       "is_promo                                        0                    1   \n",
       "\n",
       "                                          1017203              1017204  \\\n",
       "store                                        1110                 1111   \n",
       "day_of_week                                     2                    2   \n",
       "date                          2013-01-01 00:00:00  2013-01-01 00:00:00   \n",
       "sales                                           0                    0   \n",
       "customers                                       0                    0   \n",
       "open                                            0                    0   \n",
       "promo                                           0                    0   \n",
       "state_holiday                                   a                    a   \n",
       "school_holiday                                  1                    1   \n",
       "store_type                                      c                    a   \n",
       "assortment                                      c                    a   \n",
       "competition_distance                        900.0               1900.0   \n",
       "competition_open_since_month                    9                    6   \n",
       "competition_open_since_year                  2010                 2014   \n",
       "promo2                                          0                    1   \n",
       "promo2_since_week                               1                   31   \n",
       "promo2_since_year                            2013                 2013   \n",
       "promo_interval                                  0      Jan,Apr,Jul,Oct   \n",
       "month_map                                     Jan                  Jan   \n",
       "is_promo                                        0                    1   \n",
       "\n",
       "                                          1017205              1017206  \\\n",
       "store                                        1112                 1113   \n",
       "day_of_week                                     2                    2   \n",
       "date                          2013-01-01 00:00:00  2013-01-01 00:00:00   \n",
       "sales                                           0                    0   \n",
       "customers                                       0                    0   \n",
       "open                                            0                    0   \n",
       "promo                                           0                    0   \n",
       "state_holiday                                   a                    a   \n",
       "school_holiday                                  1                    1   \n",
       "store_type                                      c                    a   \n",
       "assortment                                      c                    c   \n",
       "competition_distance                       1880.0               9260.0   \n",
       "competition_open_since_month                    4                    1   \n",
       "competition_open_since_year                  2006                 2013   \n",
       "promo2                                          0                    0   \n",
       "promo2_since_week                               1                    1   \n",
       "promo2_since_year                            2013                 2013   \n",
       "promo_interval                                  0                    0   \n",
       "month_map                                     Jan                  Jan   \n",
       "is_promo                                        0                    0   \n",
       "\n",
       "                                          1017207              1017208  \n",
       "store                                        1114                 1115  \n",
       "day_of_week                                     2                    2  \n",
       "date                          2013-01-01 00:00:00  2013-01-01 00:00:00  \n",
       "sales                                           0                    0  \n",
       "customers                                       0                    0  \n",
       "open                                            0                    0  \n",
       "promo                                           0                    0  \n",
       "state_holiday                                   a                    a  \n",
       "school_holiday                                  1                    1  \n",
       "store_type                                      a                    d  \n",
       "assortment                                      c                    c  \n",
       "competition_distance                        870.0               5350.0  \n",
       "competition_open_since_month                    1                    1  \n",
       "competition_open_since_year                  2013                 2013  \n",
       "promo2                                          0                    1  \n",
       "promo2_since_week                               1                   22  \n",
       "promo2_since_year                            2013                 2012  \n",
       "promo_interval                                  0     Mar,Jun,Sept,Dec  \n",
       "month_map                                     Jan                  Jan  \n",
       "is_promo                                        0                    0  \n",
       "\n",
       "[20 rows x 1017209 columns]"
      ]
     },
     "execution_count": 35,
     "metadata": {},
     "output_type": "execute_result"
    }
   ],
   "source": [
    "# visualização da matriz transposta\n",
    "\n",
    "df1.T"
   ]
  },
  {
   "cell_type": "code",
   "execution_count": 17,
   "id": "d5e636b0",
   "metadata": {
    "ExecuteTime": {
     "end_time": "2023-01-20T13:51:38.429159Z",
     "start_time": "2023-01-20T13:51:38.403103Z"
    },
    "hidden": true
   },
   "outputs": [
    {
     "data": {
      "text/plain": [
       "75860.0"
      ]
     },
     "execution_count": 17,
     "metadata": {},
     "output_type": "execute_result"
    }
   ],
   "source": [
    "# encontrar o valor máximo para utilizar de parâmetro para a 'competition_distance'\n",
    "df1['competition_distance'].max()"
   ]
  },
  {
   "cell_type": "code",
   "execution_count": 18,
   "id": "721f2643",
   "metadata": {
    "ExecuteTime": {
     "end_time": "2023-01-20T13:51:39.090960Z",
     "start_time": "2023-01-20T13:51:38.440106Z"
    },
    "hidden": true
   },
   "outputs": [],
   "source": [
    "# competition_distance\n",
    "\n",
    "df1['competition_distance'] = df1['competition_distance'].apply(\n",
    "    lambda x: 200000.0 if math.isnan(x) else x)"
   ]
  },
  {
   "cell_type": "code",
   "execution_count": 19,
   "id": "fec9657b",
   "metadata": {
    "ExecuteTime": {
     "end_time": "2023-01-20T13:52:16.030276Z",
     "start_time": "2023-01-20T13:51:39.097178Z"
    },
    "hidden": true
   },
   "outputs": [],
   "source": [
    "# competition_open_since_month\n",
    "\n",
    "df1['competition_open_since_month'] = df1.apply(lambda x: x['date'].month if math.isnan(\n",
    "    x['competition_open_since_month']) else x['competition_open_since_month'], axis=1)"
   ]
  },
  {
   "cell_type": "code",
   "execution_count": 20,
   "id": "61834abc",
   "metadata": {
    "ExecuteTime": {
     "end_time": "2023-01-20T13:52:57.712805Z",
     "start_time": "2023-01-20T13:52:16.036762Z"
    },
    "hidden": true
   },
   "outputs": [],
   "source": [
    "# competition_open_since_year\n",
    "\n",
    "df1['competition_open_since_year'] = df1.apply(lambda x: x['date'].year if math.isnan(\n",
    "    x['competition_open_since_year']) else x['competition_open_since_year'], axis=1)"
   ]
  },
  {
   "cell_type": "code",
   "execution_count": 21,
   "id": "eb84de42",
   "metadata": {
    "ExecuteTime": {
     "end_time": "2023-01-20T13:53:32.747883Z",
     "start_time": "2023-01-20T13:52:57.747170Z"
    },
    "hidden": true
   },
   "outputs": [],
   "source": [
    "# promo2_since_week\n",
    "\n",
    "df1['promo2_since_week'] = df1.apply(lambda x: x['date'].week if math.isnan(\n",
    "    x['promo2_since_week']) else x['promo2_since_week'], axis=1)"
   ]
  },
  {
   "cell_type": "code",
   "execution_count": 22,
   "id": "45918654",
   "metadata": {
    "ExecuteTime": {
     "end_time": "2023-01-20T13:54:07.421910Z",
     "start_time": "2023-01-20T13:53:32.795340Z"
    },
    "hidden": true
   },
   "outputs": [],
   "source": [
    "# promo2_since_year\n",
    "\n",
    "df1['promo2_since_year'] = df1.apply(lambda x: x['date'].year if math.isnan(\n",
    "    x['promo2_since_year']) else x['promo2_since_year'], axis=1)"
   ]
  },
  {
   "cell_type": "code",
   "execution_count": 23,
   "id": "d7adce17",
   "metadata": {
    "ExecuteTime": {
     "end_time": "2023-01-20T13:54:38.301894Z",
     "start_time": "2023-01-20T13:54:07.466325Z"
    },
    "hidden": true
   },
   "outputs": [],
   "source": [
    "# promo_interval\n",
    "\n",
    "# criar dicionario com os meses\n",
    "month_map = {1: 'Jan', 2: 'Feb', 3: 'Mar', 4: 'Apr', 5: 'May', 6: 'Jun',\n",
    "             7: 'Jul', 8: 'Aug', 9: 'Sept', 10: 'Oct', 11: 'Nov', 12: 'Dec'}\n",
    "\n",
    "# sugestão 1: se for nan, vai substituir por 0\n",
    "df1['promo_interval'].fillna(0, inplace=True)\n",
    "\n",
    "# sugestão 2: ['month_map']\n",
    "df1['month_map'] = df1['date'].dt.month.map(month_map)\n",
    "\n",
    "# sugestão 3: ['is_promo']\n",
    "df1['is_promo'] = df1[['promo_interval', 'month_map']].apply(\n",
    "    lambda x: 0 if x['promo_interval'] == 0 else 1 if x['month_map'] in x['promo_interval'].split(',') else 0, axis=1)"
   ]
  },
  {
   "cell_type": "code",
   "execution_count": 30,
   "id": "7c442367",
   "metadata": {
    "ExecuteTime": {
     "end_time": "2023-01-20T14:01:27.083806Z",
     "start_time": "2023-01-20T14:01:25.700608Z"
    },
    "hidden": true
   },
   "outputs": [
    {
     "data": {
      "text/plain": [
       "store                           0\n",
       "day_of_week                     0\n",
       "date                            0\n",
       "sales                           0\n",
       "customers                       0\n",
       "open                            0\n",
       "promo                           0\n",
       "state_holiday                   0\n",
       "school_holiday                  0\n",
       "store_type                      0\n",
       "assortment                      0\n",
       "competition_distance            0\n",
       "competition_open_since_month    0\n",
       "competition_open_since_year     0\n",
       "promo2                          0\n",
       "promo2_since_week               0\n",
       "promo2_since_year               0\n",
       "promo_interval                  0\n",
       "month_map                       0\n",
       "is_promo                        0\n",
       "dtype: int64"
      ]
     },
     "execution_count": 30,
     "metadata": {},
     "output_type": "execute_result"
    }
   ],
   "source": [
    "# checando o tratamento de NA\n",
    "\n",
    "df1.isna().sum()"
   ]
  },
  {
   "cell_type": "code",
   "execution_count": 31,
   "id": "43373e85",
   "metadata": {
    "ExecuteTime": {
     "end_time": "2023-01-20T14:01:32.694337Z",
     "start_time": "2023-01-20T14:01:32.673926Z"
    },
    "hidden": true
   },
   "outputs": [
    {
     "data": {
      "text/plain": [
       "store                                    int64\n",
       "day_of_week                              int64\n",
       "date                            datetime64[ns]\n",
       "sales                                    int64\n",
       "customers                                int64\n",
       "open                                     int64\n",
       "promo                                    int64\n",
       "state_holiday                           object\n",
       "school_holiday                           int64\n",
       "store_type                              object\n",
       "assortment                              object\n",
       "competition_distance                   float64\n",
       "competition_open_since_month           float64\n",
       "competition_open_since_year            float64\n",
       "promo2                                   int64\n",
       "promo2_since_week                      float64\n",
       "promo2_since_year                      float64\n",
       "promo_interval                          object\n",
       "month_map                               object\n",
       "is_promo                                 int64\n",
       "dtype: object"
      ]
     },
     "execution_count": 31,
     "metadata": {},
     "output_type": "execute_result"
    }
   ],
   "source": [
    "# checando os tipos de dados\n",
    "\n",
    "df1.dtypes"
   ]
  },
  {
   "cell_type": "markdown",
   "id": "afdccb6d",
   "metadata": {},
   "source": [
    "### 6. Verificando e convertendo os tipos de dados"
   ]
  },
  {
   "cell_type": "code",
   "execution_count": 51,
   "id": "29ca1c18",
   "metadata": {
    "ExecuteTime": {
     "end_time": "2023-01-20T15:49:28.814758Z",
     "start_time": "2023-01-20T15:49:24.085702Z"
    }
   },
   "outputs": [],
   "source": [
    "# convertendo colunas para int\n",
    "\n",
    "df1['competition_open_since_month'] = df1['competition_open_since_month'].astype(int)\n",
    "\n",
    "df1['competition_open_since_year'] = df1['competition_open_since_year'].astype(int)\n",
    "\n",
    "df1['promo2_since_week'] = df1['promo2_since_week'].astype(int)\n",
    "\n",
    "df1['promo2_since_year'] = df1['promo2_since_year'].astype(int)"
   ]
  },
  {
   "cell_type": "code",
   "execution_count": 52,
   "id": "2310e798",
   "metadata": {
    "ExecuteTime": {
     "end_time": "2023-01-20T15:49:31.919959Z",
     "start_time": "2023-01-20T15:49:31.866143Z"
    }
   },
   "outputs": [
    {
     "data": {
      "text/plain": [
       "store                                    int64\n",
       "day_of_week                              int64\n",
       "date                            datetime64[ns]\n",
       "sales                                    int64\n",
       "customers                                int64\n",
       "open                                     int64\n",
       "promo                                    int64\n",
       "state_holiday                           object\n",
       "school_holiday                           int64\n",
       "store_type                              object\n",
       "assortment                              object\n",
       "competition_distance                   float64\n",
       "competition_open_since_month             int64\n",
       "competition_open_since_year              int64\n",
       "promo2                                   int64\n",
       "promo2_since_week                        int64\n",
       "promo2_since_year                        int64\n",
       "promo_interval                          object\n",
       "month_map                               object\n",
       "is_promo                                 int64\n",
       "dtype: object"
      ]
     },
     "execution_count": 52,
     "metadata": {},
     "output_type": "execute_result"
    }
   ],
   "source": [
    "# checando a conversão\n",
    "\n",
    "df1.dtypes"
   ]
  },
  {
   "cell_type": "markdown",
   "id": "a4b31b86",
   "metadata": {},
   "source": [
    "### 7. Análises estatísticas"
   ]
  },
  {
   "cell_type": "code",
   "execution_count": 53,
   "id": "485fc53b",
   "metadata": {
    "ExecuteTime": {
     "end_time": "2023-01-20T15:49:49.188249Z",
     "start_time": "2023-01-20T15:49:45.458977Z"
    }
   },
   "outputs": [],
   "source": [
    "# separar colunas com dados numéricos\n",
    "colunas_numericas = df1.select_dtypes(include=['int64', 'float64'])\n",
    "\n",
    "# separar colunas com dados categóricos\n",
    "colunas_categoricas = df1.select_dtypes(\n",
    "    exclude=['int64', 'float64', 'datetime64[ns]'])"
   ]
  },
  {
   "cell_type": "markdown",
   "id": "02a704e2",
   "metadata": {},
   "source": [
    "#### 7.1 Dados numéricos"
   ]
  },
  {
   "cell_type": "code",
   "execution_count": 66,
   "id": "bccb9c14",
   "metadata": {
    "ExecuteTime": {
     "end_time": "2023-01-20T16:08:47.746895Z",
     "start_time": "2023-01-20T16:08:40.326804Z"
    }
   },
   "outputs": [
    {
     "data": {
      "text/html": [
       "<div>\n",
       "<style scoped>\n",
       "    .dataframe tbody tr th:only-of-type {\n",
       "        vertical-align: middle;\n",
       "    }\n",
       "\n",
       "    .dataframe tbody tr th {\n",
       "        vertical-align: top;\n",
       "    }\n",
       "\n",
       "    .dataframe thead th {\n",
       "        text-align: right;\n",
       "    }\n",
       "</style>\n",
       "<table border=\"1\" class=\"dataframe\">\n",
       "  <thead>\n",
       "    <tr style=\"text-align: right;\">\n",
       "      <th></th>\n",
       "      <th>features</th>\n",
       "      <th>min</th>\n",
       "      <th>max</th>\n",
       "      <th>range</th>\n",
       "      <th>mean</th>\n",
       "      <th>median</th>\n",
       "      <th>std</th>\n",
       "      <th>skew</th>\n",
       "      <th>kurtosis</th>\n",
       "    </tr>\n",
       "  </thead>\n",
       "  <tbody>\n",
       "    <tr>\n",
       "      <th>0</th>\n",
       "      <td>store</td>\n",
       "      <td>1.0</td>\n",
       "      <td>1115.0</td>\n",
       "      <td>1114.0</td>\n",
       "      <td>558.429727</td>\n",
       "      <td>558.0</td>\n",
       "      <td>321.908493</td>\n",
       "      <td>-0.000955</td>\n",
       "      <td>-1.200524</td>\n",
       "    </tr>\n",
       "    <tr>\n",
       "      <th>1</th>\n",
       "      <td>day_of_week</td>\n",
       "      <td>1.0</td>\n",
       "      <td>7.0</td>\n",
       "      <td>6.0</td>\n",
       "      <td>3.998341</td>\n",
       "      <td>4.0</td>\n",
       "      <td>1.997390</td>\n",
       "      <td>0.001593</td>\n",
       "      <td>-1.246873</td>\n",
       "    </tr>\n",
       "    <tr>\n",
       "      <th>2</th>\n",
       "      <td>sales</td>\n",
       "      <td>0.0</td>\n",
       "      <td>41551.0</td>\n",
       "      <td>41551.0</td>\n",
       "      <td>5773.818972</td>\n",
       "      <td>5744.0</td>\n",
       "      <td>3849.924283</td>\n",
       "      <td>0.641460</td>\n",
       "      <td>1.778375</td>\n",
       "    </tr>\n",
       "    <tr>\n",
       "      <th>3</th>\n",
       "      <td>customers</td>\n",
       "      <td>0.0</td>\n",
       "      <td>7388.0</td>\n",
       "      <td>7388.0</td>\n",
       "      <td>633.145946</td>\n",
       "      <td>609.0</td>\n",
       "      <td>464.411506</td>\n",
       "      <td>1.598650</td>\n",
       "      <td>7.091773</td>\n",
       "    </tr>\n",
       "    <tr>\n",
       "      <th>4</th>\n",
       "      <td>open</td>\n",
       "      <td>0.0</td>\n",
       "      <td>1.0</td>\n",
       "      <td>1.0</td>\n",
       "      <td>0.830107</td>\n",
       "      <td>1.0</td>\n",
       "      <td>0.375539</td>\n",
       "      <td>-1.758045</td>\n",
       "      <td>1.090723</td>\n",
       "    </tr>\n",
       "    <tr>\n",
       "      <th>5</th>\n",
       "      <td>promo</td>\n",
       "      <td>0.0</td>\n",
       "      <td>1.0</td>\n",
       "      <td>1.0</td>\n",
       "      <td>0.381515</td>\n",
       "      <td>0.0</td>\n",
       "      <td>0.485758</td>\n",
       "      <td>0.487838</td>\n",
       "      <td>-1.762018</td>\n",
       "    </tr>\n",
       "    <tr>\n",
       "      <th>6</th>\n",
       "      <td>school_holiday</td>\n",
       "      <td>0.0</td>\n",
       "      <td>1.0</td>\n",
       "      <td>1.0</td>\n",
       "      <td>0.178647</td>\n",
       "      <td>0.0</td>\n",
       "      <td>0.383056</td>\n",
       "      <td>1.677842</td>\n",
       "      <td>0.815154</td>\n",
       "    </tr>\n",
       "    <tr>\n",
       "      <th>7</th>\n",
       "      <td>competition_distance</td>\n",
       "      <td>20.0</td>\n",
       "      <td>200000.0</td>\n",
       "      <td>199980.0</td>\n",
       "      <td>5935.442677</td>\n",
       "      <td>2330.0</td>\n",
       "      <td>12547.646829</td>\n",
       "      <td>10.242344</td>\n",
       "      <td>147.789712</td>\n",
       "    </tr>\n",
       "    <tr>\n",
       "      <th>8</th>\n",
       "      <td>competition_open_since_month</td>\n",
       "      <td>1.0</td>\n",
       "      <td>12.0</td>\n",
       "      <td>11.0</td>\n",
       "      <td>6.786849</td>\n",
       "      <td>7.0</td>\n",
       "      <td>3.311085</td>\n",
       "      <td>-0.042076</td>\n",
       "      <td>-1.232607</td>\n",
       "    </tr>\n",
       "    <tr>\n",
       "      <th>9</th>\n",
       "      <td>competition_open_since_year</td>\n",
       "      <td>1900.0</td>\n",
       "      <td>2015.0</td>\n",
       "      <td>115.0</td>\n",
       "      <td>2010.324840</td>\n",
       "      <td>2012.0</td>\n",
       "      <td>5.515591</td>\n",
       "      <td>-7.235657</td>\n",
       "      <td>124.071304</td>\n",
       "    </tr>\n",
       "    <tr>\n",
       "      <th>10</th>\n",
       "      <td>promo2</td>\n",
       "      <td>0.0</td>\n",
       "      <td>1.0</td>\n",
       "      <td>1.0</td>\n",
       "      <td>0.500564</td>\n",
       "      <td>1.0</td>\n",
       "      <td>0.500000</td>\n",
       "      <td>-0.002255</td>\n",
       "      <td>-1.999999</td>\n",
       "    </tr>\n",
       "    <tr>\n",
       "      <th>11</th>\n",
       "      <td>promo2_since_week</td>\n",
       "      <td>1.0</td>\n",
       "      <td>52.0</td>\n",
       "      <td>51.0</td>\n",
       "      <td>23.619033</td>\n",
       "      <td>22.0</td>\n",
       "      <td>14.310057</td>\n",
       "      <td>0.178723</td>\n",
       "      <td>-1.184046</td>\n",
       "    </tr>\n",
       "    <tr>\n",
       "      <th>12</th>\n",
       "      <td>promo2_since_year</td>\n",
       "      <td>2009.0</td>\n",
       "      <td>2015.0</td>\n",
       "      <td>6.0</td>\n",
       "      <td>2012.793297</td>\n",
       "      <td>2013.0</td>\n",
       "      <td>1.662657</td>\n",
       "      <td>-0.784436</td>\n",
       "      <td>-0.210075</td>\n",
       "    </tr>\n",
       "    <tr>\n",
       "      <th>13</th>\n",
       "      <td>is_promo</td>\n",
       "      <td>0.0</td>\n",
       "      <td>1.0</td>\n",
       "      <td>1.0</td>\n",
       "      <td>0.171835</td>\n",
       "      <td>0.0</td>\n",
       "      <td>0.377237</td>\n",
       "      <td>1.739838</td>\n",
       "      <td>1.027039</td>\n",
       "    </tr>\n",
       "  </tbody>\n",
       "</table>\n",
       "</div>"
      ],
      "text/plain": [
       "                        features     min       max     range         mean  \\\n",
       "0                          store     1.0    1115.0    1114.0   558.429727   \n",
       "1                    day_of_week     1.0       7.0       6.0     3.998341   \n",
       "2                          sales     0.0   41551.0   41551.0  5773.818972   \n",
       "3                      customers     0.0    7388.0    7388.0   633.145946   \n",
       "4                           open     0.0       1.0       1.0     0.830107   \n",
       "5                          promo     0.0       1.0       1.0     0.381515   \n",
       "6                 school_holiday     0.0       1.0       1.0     0.178647   \n",
       "7           competition_distance    20.0  200000.0  199980.0  5935.442677   \n",
       "8   competition_open_since_month     1.0      12.0      11.0     6.786849   \n",
       "9    competition_open_since_year  1900.0    2015.0     115.0  2010.324840   \n",
       "10                        promo2     0.0       1.0       1.0     0.500564   \n",
       "11             promo2_since_week     1.0      52.0      51.0    23.619033   \n",
       "12             promo2_since_year  2009.0    2015.0       6.0  2012.793297   \n",
       "13                      is_promo     0.0       1.0       1.0     0.171835   \n",
       "\n",
       "    median           std       skew    kurtosis  \n",
       "0    558.0    321.908493  -0.000955   -1.200524  \n",
       "1      4.0      1.997390   0.001593   -1.246873  \n",
       "2   5744.0   3849.924283   0.641460    1.778375  \n",
       "3    609.0    464.411506   1.598650    7.091773  \n",
       "4      1.0      0.375539  -1.758045    1.090723  \n",
       "5      0.0      0.485758   0.487838   -1.762018  \n",
       "6      0.0      0.383056   1.677842    0.815154  \n",
       "7   2330.0  12547.646829  10.242344  147.789712  \n",
       "8      7.0      3.311085  -0.042076   -1.232607  \n",
       "9   2012.0      5.515591  -7.235657  124.071304  \n",
       "10     1.0      0.500000  -0.002255   -1.999999  \n",
       "11    22.0     14.310057   0.178723   -1.184046  \n",
       "12  2013.0      1.662657  -0.784436   -0.210075  \n",
       "13     0.0      0.377237   1.739838    1.027039  "
      ]
     },
     "execution_count": 66,
     "metadata": {},
     "output_type": "execute_result"
    }
   ],
   "source": [
    "# transpondo métricas de tendência central (média, mediana)\n",
    "\n",
    "tc1 = pd.DataFrame(colunas_numericas.apply(np.mean)).T \n",
    "tc2 = pd.DataFrame(colunas_numericas.apply(np.median)).T\n",
    "\n",
    "# transpondo métricas de dispersãpo (desvio padrão, min, max, range, skew, kurtosis)\n",
    "\n",
    "md1 = pd.DataFrame(colunas_numericas.apply(np.std)).T\n",
    "md2 = pd.DataFrame(colunas_numericas.apply(min)).T\n",
    "md3 = pd.DataFrame(colunas_numericas.apply(max)).T\n",
    "md4 = pd.DataFrame(colunas_numericas.apply(lambda x: x.max() - x.min())).T \n",
    "md5 = pd.DataFrame(colunas_numericas.apply(lambda x: x.skew())).T\n",
    "md6 = pd.DataFrame(colunas_numericas.apply(lambda x: x.kurtosis())).T\n",
    "\n",
    "#concatenando dados na ordem de visualização\n",
    "metricas = pd.concat([md2, md3, md4, tc1, tc2, md1, md5, md6]).T.reset_index()\n",
    "\n",
    "#nomeando colunas\n",
    "metricas.columns = ['features', 'min', 'max', 'range', 'mean', 'median', 'std', 'skew','kurtosis']\n",
    "\n",
    "#exibindo as métricas\n",
    "metricas"
   ]
  },
  {
   "cell_type": "code",
   "execution_count": 95,
   "id": "47953004",
   "metadata": {
    "ExecuteTime": {
     "end_time": "2023-01-20T16:40:43.979030Z",
     "start_time": "2023-01-20T16:40:43.949674Z"
    }
   },
   "outputs": [],
   "source": [
    "sns.set_theme(style='darkgrid')"
   ]
  },
  {
   "cell_type": "code",
   "execution_count": 101,
   "id": "497699f6",
   "metadata": {
    "ExecuteTime": {
     "end_time": "2023-01-20T16:42:41.813184Z",
     "start_time": "2023-01-20T16:42:39.659010Z"
    }
   },
   "outputs": [
    {
     "data": {
      "text/plain": [
       "<AxesSubplot: xlabel='competition_distance', ylabel='Count'>"
      ]
     },
     "execution_count": 101,
     "metadata": {},
     "output_type": "execute_result"
    },
    {
     "data": {
      "image/png": "[encoded data removed]",
      "text/plain": [
       "<Figure size 640x480 with 1 Axes>"
      ]
     },
     "metadata": {},
     "output_type": "display_data"
    }
   ],
   "source": [
    "sns.histplot(df1['competition_distance'], bins = 40)"
   ]
  },
  {
   "cell_type": "code",
   "execution_count": null,
   "id": "9d99ff8b",
   "metadata": {},
   "outputs": [],
   "source": []
  },
  {
   "cell_type": "code",
   "execution_count": null,
   "id": "6f07eae3",
   "metadata": {},
   "outputs": [],
   "source": []
  }
 ],
 "metadata": {
  "kernelspec": {
   "display_name": "venv_rossmann",
   "language": "python",
   "name": "venv_rossmann"
  },
  "language_info": {
   "codemirror_mode": {
    "name": "ipython",
    "version": 3
   },
   "file_extension": ".py",
   "mimetype": "text/x-python",
   "name": "python",
   "nbconvert_exporter": "python",
   "pygments_lexer": "ipython3",
   "version": "3.8.0"
  },
  "varInspector": {
   "cols": {
    "lenName": 16,
    "lenType": 16,
    "lenVar": 40
   },
   "kernels_config": {
    "python": {
     "delete_cmd_postfix": "",
     "delete_cmd_prefix": "del ",
     "library": "var_list.py",
     "varRefreshCmd": "print(var_dic_list())"
    },
    "r": {
     "delete_cmd_postfix": ") ",
     "delete_cmd_prefix": "rm(",
     "library": "var_list.r",
     "varRefreshCmd": "cat(var_dic_list()) "
    }
   },
   "types_to_exclude": [
    "module",
    "function",
    "builtin_function_or_method",
    "instance",
    "_Feature"
   ],
   "window_display": false
  }
 },
 "nbformat": 4,
 "nbformat_minor": 5
}
