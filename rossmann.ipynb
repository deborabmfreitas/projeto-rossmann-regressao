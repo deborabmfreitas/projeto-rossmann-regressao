{
 "cells": [
  {
   "cell_type": "markdown",
   "id": "85f35355",
   "metadata": {
    "heading_collapsed": true
   },
   "source": [
    "## Bibliotecas"
   ]
  },
  {
   "cell_type": "code",
   "execution_count": 19,
   "id": "928057da",
   "metadata": {
    "ExecuteTime": {
     "end_time": "2023-01-16T22:28:44.705013Z",
     "start_time": "2023-01-16T22:28:44.692635Z"
    },
    "hidden": true
   },
   "outputs": [],
   "source": [
    "import pandas as pd\n",
    "import inflection"
   ]
  },
  {
   "cell_type": "markdown",
   "id": "0aa6d2a0",
   "metadata": {
    "heading_collapsed": true
   },
   "source": [
    "## Carregamento dos dados"
   ]
  },
  {
   "cell_type": "code",
   "execution_count": 11,
   "id": "7361eb5f",
   "metadata": {
    "ExecuteTime": {
     "end_time": "2023-01-16T22:20:24.272808Z",
     "start_time": "2023-01-16T22:20:22.283346Z"
    },
    "hidden": true
   },
   "outputs": [],
   "source": [
    "df_sales_raw = pd.read_csv('data/train.csv', low_memory=False)\n",
    "df_store_raw = pd.read_csv('data/store.csv', low_memory=False)\n",
    "\n",
    "# merge\n",
    "df_raw = pd.merge(df_sales_raw, df_store_raw, how='left', on='Store')"
   ]
  },
  {
   "cell_type": "markdown",
   "id": "f761986f",
   "metadata": {
    "heading_collapsed": true
   },
   "source": [
    "## Funções adicionais"
   ]
  },
  {
   "cell_type": "code",
   "execution_count": null,
   "id": "f35efd50",
   "metadata": {
    "hidden": true
   },
   "outputs": [],
   "source": []
  },
  {
   "cell_type": "markdown",
   "id": "476d761f",
   "metadata": {},
   "source": [
    "## Descrição dos dados"
   ]
  },
  {
   "cell_type": "markdown",
   "id": "8b4c1f47",
   "metadata": {
    "heading_collapsed": true
   },
   "source": [
    "### 1. Renomeando colunas"
   ]
  },
  {
   "cell_type": "code",
   "execution_count": 15,
   "id": "3a106533",
   "metadata": {
    "ExecuteTime": {
     "end_time": "2023-01-16T22:24:12.165493Z",
     "start_time": "2023-01-16T22:24:11.927814Z"
    },
    "hidden": true
   },
   "outputs": [],
   "source": [
    "df1 = df_raw.copy()"
   ]
  },
  {
   "cell_type": "code",
   "execution_count": 23,
   "id": "39c27088",
   "metadata": {
    "ExecuteTime": {
     "end_time": "2023-01-16T22:31:28.429170Z",
     "start_time": "2023-01-16T22:31:28.421050Z"
    },
    "hidden": true
   },
   "outputs": [],
   "source": [
    "cols_originais = ['Store', 'DayOfWeek', 'Date', 'Sales', 'Customers', 'Open', 'Promo', 'StateHoliday',\n",
    "                  'SchoolHoliday', 'StoreType', 'Assortment', 'CompetitionDistance', 'CompetitionOpenSinceMonth',\n",
    "                  'CompetitionOpenSinceYear', 'Promo2', 'Promo2SinceWeek', 'Promo2SinceYear', 'PromoInterval']\n",
    "\n",
    "\n",
    "def snakecase(x): return inflection.underscore(x)\n",
    "\n",
    "\n",
    "cols_novas = list(map(snakecase, cols_originais))\n",
    "\n",
    "# renomear\n",
    "df1.columns = cols_novas"
   ]
  },
  {
   "cell_type": "markdown",
   "id": "b9dae853",
   "metadata": {
    "heading_collapsed": true
   },
   "source": [
    "### 2. Verificando a dimensão dos dados"
   ]
  },
  {
   "cell_type": "code",
   "execution_count": 26,
   "id": "465c0f51",
   "metadata": {
    "ExecuteTime": {
     "end_time": "2023-01-16T22:34:13.052773Z",
     "start_time": "2023-01-16T22:34:13.037893Z"
    },
    "hidden": true
   },
   "outputs": [
    {
     "name": "stdout",
     "output_type": "stream",
     "text": [
      "Linhas: 1017209\n",
      "Colunas: 18\n"
     ]
    }
   ],
   "source": [
    "print(f'Linhas: {df1.shape[0]}')\n",
    "print(f'Colunas: {df1.shape[1]}')"
   ]
  },
  {
   "cell_type": "markdown",
   "id": "19ef9f53",
   "metadata": {
    "heading_collapsed": true
   },
   "source": [
    "### 3. Verificando os tipos de dados"
   ]
  },
  {
   "cell_type": "code",
   "execution_count": 27,
   "id": "74d4a4cf",
   "metadata": {
    "ExecuteTime": {
     "end_time": "2023-01-16T22:35:58.632127Z",
     "start_time": "2023-01-16T22:35:58.600520Z"
    },
    "hidden": true
   },
   "outputs": [
    {
     "data": {
      "text/plain": [
       "store                             int64\n",
       "day_of_week                       int64\n",
       "date                             object\n",
       "sales                             int64\n",
       "customers                         int64\n",
       "open                              int64\n",
       "promo                             int64\n",
       "state_holiday                    object\n",
       "school_holiday                    int64\n",
       "store_type                       object\n",
       "assortment                       object\n",
       "competition_distance            float64\n",
       "competition_open_since_month    float64\n",
       "competition_open_since_year     float64\n",
       "promo2                            int64\n",
       "promo2_since_week               float64\n",
       "promo2_since_year               float64\n",
       "promo_interval                   object\n",
       "dtype: object"
      ]
     },
     "execution_count": 27,
     "metadata": {},
     "output_type": "execute_result"
    }
   ],
   "source": [
    "df1.dtypes"
   ]
  },
  {
   "cell_type": "code",
   "execution_count": 28,
   "id": "d35bce9a",
   "metadata": {
    "ExecuteTime": {
     "end_time": "2023-01-16T22:37:48.032104Z",
     "start_time": "2023-01-16T22:37:47.681926Z"
    },
    "hidden": true
   },
   "outputs": [],
   "source": [
    "#coluna 'date' de object para datetime\n",
    "df1['date'] = pd.to_datetime(df1['date'])"
   ]
  },
  {
   "cell_type": "code",
   "execution_count": 29,
   "id": "a2408e15",
   "metadata": {
    "ExecuteTime": {
     "end_time": "2023-01-16T22:37:54.487435Z",
     "start_time": "2023-01-16T22:37:54.465515Z"
    },
    "hidden": true
   },
   "outputs": [
    {
     "data": {
      "text/plain": [
       "store                                    int64\n",
       "day_of_week                              int64\n",
       "date                            datetime64[ns]\n",
       "sales                                    int64\n",
       "customers                                int64\n",
       "open                                     int64\n",
       "promo                                    int64\n",
       "state_holiday                           object\n",
       "school_holiday                           int64\n",
       "store_type                              object\n",
       "assortment                              object\n",
       "competition_distance                   float64\n",
       "competition_open_since_month           float64\n",
       "competition_open_since_year            float64\n",
       "promo2                                   int64\n",
       "promo2_since_week                      float64\n",
       "promo2_since_year                      float64\n",
       "promo_interval                          object\n",
       "dtype: object"
      ]
     },
     "execution_count": 29,
     "metadata": {},
     "output_type": "execute_result"
    }
   ],
   "source": [
    "df1.dtypes"
   ]
  },
  {
   "cell_type": "markdown",
   "id": "b4f2c944",
   "metadata": {
    "heading_collapsed": true
   },
   "source": [
    "### 4. Checando dados nulos (NA)"
   ]
  },
  {
   "cell_type": "code",
   "execution_count": 30,
   "id": "565fef84",
   "metadata": {
    "ExecuteTime": {
     "end_time": "2023-01-16T22:39:33.338195Z",
     "start_time": "2023-01-16T22:39:32.210191Z"
    },
    "hidden": true
   },
   "outputs": [
    {
     "data": {
      "text/plain": [
       "store                                0\n",
       "day_of_week                          0\n",
       "date                                 0\n",
       "sales                                0\n",
       "customers                            0\n",
       "open                                 0\n",
       "promo                                0\n",
       "state_holiday                        0\n",
       "school_holiday                       0\n",
       "store_type                           0\n",
       "assortment                           0\n",
       "competition_distance              2642\n",
       "competition_open_since_month    323348\n",
       "competition_open_since_year     323348\n",
       "promo2                               0\n",
       "promo2_since_week               508031\n",
       "promo2_since_year               508031\n",
       "promo_interval                  508031\n",
       "dtype: int64"
      ]
     },
     "execution_count": 30,
     "metadata": {},
     "output_type": "execute_result"
    }
   ],
   "source": [
    "df1.isna().sum()"
   ]
  },
  {
   "cell_type": "markdown",
   "id": "cec083fd",
   "metadata": {
    "heading_collapsed": true
   },
   "source": [
    "### 5. Etapa "
   ]
  },
  {
   "cell_type": "code",
   "execution_count": null,
   "id": "d7adce17",
   "metadata": {
    "hidden": true
   },
   "outputs": [],
   "source": []
  },
  {
   "cell_type": "markdown",
   "id": "306da213",
   "metadata": {
    "heading_collapsed": true
   },
   "source": [
    "### 6. Etapa "
   ]
  },
  {
   "cell_type": "code",
   "execution_count": null,
   "id": "43373e85",
   "metadata": {
    "hidden": true
   },
   "outputs": [],
   "source": []
  },
  {
   "cell_type": "markdown",
   "id": "d40adc8f",
   "metadata": {
    "heading_collapsed": true
   },
   "source": [
    "### 7. Etapa "
   ]
  },
  {
   "cell_type": "code",
   "execution_count": null,
   "id": "5cf3662f",
   "metadata": {
    "hidden": true
   },
   "outputs": [],
   "source": []
  },
  {
   "cell_type": "markdown",
   "id": "55af3ac2",
   "metadata": {
    "heading_collapsed": true
   },
   "source": [
    "### 8. Etapa "
   ]
  },
  {
   "cell_type": "code",
   "execution_count": null,
   "id": "b5869aec",
   "metadata": {
    "hidden": true
   },
   "outputs": [],
   "source": []
  },
  {
   "cell_type": "code",
   "execution_count": null,
   "id": "736ae3c5",
   "metadata": {
    "hidden": true
   },
   "outputs": [],
   "source": []
  },
  {
   "cell_type": "markdown",
   "id": "12f7c313",
   "metadata": {
    "heading_collapsed": true
   },
   "source": [
    "### +"
   ]
  },
  {
   "cell_type": "code",
   "execution_count": null,
   "id": "6dcd51d2",
   "metadata": {
    "hidden": true
   },
   "outputs": [],
   "source": []
  }
 ],
 "metadata": {
  "kernelspec": {
   "display_name": "venv_rossmann",
   "language": "python",
   "name": "venv_rossmann"
  },
  "language_info": {
   "codemirror_mode": {
    "name": "ipython",
    "version": 3
   },
   "file_extension": ".py",
   "mimetype": "text/x-python",
   "name": "python",
   "nbconvert_exporter": "python",
   "pygments_lexer": "ipython3",
   "version": "3.8.0"
  },
  "varInspector": {
   "cols": {
    "lenName": 16,
    "lenType": 16,
    "lenVar": 40
   },
   "kernels_config": {
    "python": {
     "delete_cmd_postfix": "",
     "delete_cmd_prefix": "del ",
     "library": "var_list.py",
     "varRefreshCmd": "print(var_dic_list())"
    },
    "r": {
     "delete_cmd_postfix": ") ",
     "delete_cmd_prefix": "rm(",
     "library": "var_list.r",
     "varRefreshCmd": "cat(var_dic_list()) "
    }
   },
   "types_to_exclude": [
    "module",
    "function",
    "builtin_function_or_method",
    "instance",
    "_Feature"
   ],
   "window_display": false
  }
 },
 "nbformat": 4,
 "nbformat_minor": 5
}
